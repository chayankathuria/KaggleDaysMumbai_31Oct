{
  "nbformat": 4,
  "nbformat_minor": 0,
  "metadata": {
    "colab": {
      "name": "Kaggle Days Mumbai 31st Oct - Chayan Kathuria.ipynb",
      "provenance": [],
      "collapsed_sections": []
    },
    "kernelspec": {
      "name": "python3",
      "display_name": "Python 3"
    }
  },
  "cells": [
    {
      "cell_type": "markdown",
      "metadata": {
        "id": "qcvx00CK5y1O"
      },
      "source": [
        "# Agenda:\n",
        "1. Python Itertools\n",
        "2. Python Collections\n",
        "3. Some Handy One-liners"
      ]
    },
    {
      "cell_type": "markdown",
      "metadata": {
        "id": "v6dxwciH6Cai"
      },
      "source": [
        "## 1. Python Itertools"
      ]
    },
    {
      "cell_type": "markdown",
      "metadata": {
        "id": "lQ_H4cFa6Ge_"
      },
      "source": [
        "- Set of functions to build effective iterators in Python. Combines them to form an \"iterator algebra\".\n",
        "- Iterators & Iterables?"
      ]
    },
    {
      "cell_type": "markdown",
      "metadata": {
        "id": "JkBuCbxb6gF8"
      },
      "source": [
        "**Iterators** and **Iterables** have a clear difference in meaning when it comes to Python. In very simple terms, **iterables** are objects on which you can iterate upon. For example, list, tuple, and dictionary are Python’s built-in iterable container data types. \n",
        "\n",
        "So, when we want to iterate upon these iterables, we write a “for loop” or a list/dictionary comprehension. And with these, Python internally creates what we call as Iterators which essentially are responsible for “Iteration”. \n",
        "\n",
        "Strictly speaking, Iterables are objects that contain the `__iter__` method, which return an iterator. Now, to iterate upon the iterable, the iterators have the `__next__` method which is responsible to fetch the next item from the iterable and track the indexes."
      ]
    },
    {
      "cell_type": "markdown",
      "metadata": {
        "id": "PFGgWN5cLn7U"
      },
      "source": [
        "## What is the Itertools module?"
      ]
    },
    {
      "cell_type": "markdown",
      "metadata": {
        "id": "r6k8CEFTLlXm"
      },
      "source": [
        "“Iter” in Itertools stands for Iterables. The itertools module in Python offers a set of tools or functions which are designed for a specific task but can also be used in combinations to build a more complex iterator. \n",
        "\n",
        "You can think of these as blocks of efficient functions which make our lives easy as we don’t have to write functions for common and repetitive tasks manually.  And you can also use them as an “Iterator Algebra” when you combine some of these together for your use cases.\n",
        "\n",
        "So with these functions, you can create clean, efficient and smart code rather than creating a messy and less efficient one.\n"
      ]
    },
    {
      "cell_type": "code",
      "metadata": {
        "id": "Yh8cbZ0T7BST"
      },
      "source": [
        "import itertools"
      ],
      "execution_count": null,
      "outputs": []
    },
    {
      "cell_type": "markdown",
      "metadata": {
        "id": "C8bK3dONFpN8"
      },
      "source": [
        "1. zip and zip_longest"
      ]
    },
    {
      "cell_type": "markdown",
      "metadata": {
        "id": "4sSxLU0wMAc-"
      },
      "source": [
        "`zip_longest()` is a function of the itertools module which lets you work with multiple iterables of different sizes while zipping. With zip, the iterable of the shortest length is considered and the rest of the elements of all other iterables are ignored. Let’s see how we can tackle this with zip_longest."
      ]
    },
    {
      "cell_type": "code",
      "metadata": {
        "id": "LEYoFvD2Fsfw"
      },
      "source": [
        "a = [1,2,3]\n",
        "b = [3,5,6,7,8]\n",
        "lis = []\n",
        "for i,j in zip(a,b):\n",
        "  lis.append((i,j))"
      ],
      "execution_count": 3,
      "outputs": []
    },
    {
      "cell_type": "code",
      "metadata": {
        "id": "_0yeaJWfxSEJ",
        "outputId": "f3ad3be4-50b7-4f3f-ce69-fa944da38755",
        "colab": {
          "base_uri": "https://localhost:8080/"
        }
      },
      "source": [
        "lis"
      ],
      "execution_count": 4,
      "outputs": [
        {
          "output_type": "execute_result",
          "data": {
            "text/plain": [
              "[(1, 3), (2, 5), (3, 6)]"
            ]
          },
          "metadata": {
            "tags": []
          },
          "execution_count": 4
        }
      ]
    },
    {
      "cell_type": "markdown",
      "metadata": {
        "id": "6XuIhEZhMHoL"
      },
      "source": [
        "You see? It ignored values 7 and 8.\n",
        "\n",
        "Now let’s see how zip_longest works.\n"
      ]
    },
    {
      "cell_type": "code",
      "metadata": {
        "id": "hHyW9JEVFssl"
      },
      "source": [
        "from itertools import  zip_longest"
      ],
      "execution_count": 5,
      "outputs": []
    },
    {
      "cell_type": "code",
      "metadata": {
        "id": "A_MBFIxtGs8X",
        "outputId": "7418f338-6713-47b8-a63c-3820852e6fc7",
        "colab": {
          "base_uri": "https://localhost:8080/"
        }
      },
      "source": [
        "a = [2,3,4,5]\n",
        "b = [3,5,6,7,8,9,2]\n",
        "lis = []\n",
        "for i,j in zip_longest(a,b,fillvalue=\"X\"):\n",
        "  lis.append((i,j))\n",
        "print(lis)"
      ],
      "execution_count": 6,
      "outputs": [
        {
          "output_type": "stream",
          "text": [
            "[(2, 3), (3, 5), (4, 6), (5, 7), ('X', 8), ('X', 9), ('X', 2)]\n"
          ],
          "name": "stdout"
        }
      ]
    },
    {
      "cell_type": "markdown",
      "metadata": {
        "id": "yEmhtw3pMUrs"
      },
      "source": [
        "So the argument `fillvalue` is needed to be passed to specify with which value you need Python to fill the shorter iterables with."
      ]
    },
    {
      "cell_type": "markdown",
      "metadata": {
        "id": "2nMFAtv_NC9U"
      },
      "source": [
        "#### Infinite iterators"
      ]
    },
    {
      "cell_type": "markdown",
      "metadata": {
        "id": "q7h8MkAkGwKj"
      },
      "source": [
        "2. Count"
      ]
    },
    {
      "cell_type": "code",
      "metadata": {
        "id": "IvbTdxjco-WQ"
      },
      "source": [
        "import itertools"
      ],
      "execution_count": 8,
      "outputs": []
    },
    {
      "cell_type": "code",
      "metadata": {
        "id": "hFco2VnJ7XAp"
      },
      "source": [
        "counter = itertools.count()"
      ],
      "execution_count": 9,
      "outputs": []
    },
    {
      "cell_type": "code",
      "metadata": {
        "id": "LkcfkoD28QS2"
      },
      "source": [
        "print(next(counter))"
      ],
      "execution_count": null,
      "outputs": []
    },
    {
      "cell_type": "code",
      "metadata": {
        "id": "_0DmV20-8Sdu"
      },
      "source": [
        "for i in itertools.count(1,2):\n",
        "    print(i)"
      ],
      "execution_count": null,
      "outputs": []
    },
    {
      "cell_type": "code",
      "metadata": {
        "id": "QQBK82_XEZjw"
      },
      "source": [
        "counter2 = itertools.count(3, -1)"
      ],
      "execution_count": 11,
      "outputs": []
    },
    {
      "cell_type": "code",
      "metadata": {
        "id": "PZhNXbMLFBvL",
        "outputId": "3f008da9-4562-4b32-a680-f94799f4c0a7",
        "colab": {
          "base_uri": "https://localhost:8080/"
        }
      },
      "source": [
        "print(next(counter2))"
      ],
      "execution_count": 14,
      "outputs": [
        {
          "output_type": "stream",
          "text": [
            "1\n"
          ],
          "name": "stdout"
        }
      ]
    },
    {
      "cell_type": "markdown",
      "metadata": {
        "id": "mF05-EV6SG3P"
      },
      "source": [
        "3. Cycle"
      ]
    },
    {
      "cell_type": "code",
      "metadata": {
        "id": "b6JK0azbFE1I"
      },
      "source": [
        "cycler = itertools.cycle('ABCD')"
      ],
      "execution_count": 15,
      "outputs": []
    },
    {
      "cell_type": "code",
      "metadata": {
        "id": "4mnf17M1Tnko",
        "outputId": "f1505a0e-e8fa-42eb-96a3-6a09e1c3196a",
        "colab": {
          "base_uri": "https://localhost:8080/"
        }
      },
      "source": [
        "print(next(cycler))"
      ],
      "execution_count": 20,
      "outputs": [
        {
          "output_type": "stream",
          "text": [
            "A\n"
          ],
          "name": "stdout"
        }
      ]
    },
    {
      "cell_type": "code",
      "metadata": {
        "id": "9Q2H-TwvTo_1",
        "outputId": "aff1c87e-72bd-44c7-afac-807d7a200066",
        "colab": {
          "base_uri": "https://localhost:8080/",
          "height": 1000
        }
      },
      "source": [
        "for i in cycler:\n",
        "  print(i)"
      ],
      "execution_count": 21,
      "outputs": [
        {
          "output_type": "stream",
          "text": [
            "\u001b[1;30;43mStreaming output truncated to the last 5000 lines.\u001b[0m\n",
            "C\n",
            "D\n",
            "A\n",
            "B\n",
            "C\n",
            "D\n",
            "A\n",
            "B\n",
            "C\n",
            "D\n",
            "A\n",
            "B\n",
            "C\n",
            "D\n",
            "A\n",
            "B\n",
            "C\n",
            "D\n",
            "A\n",
            "B\n",
            "C\n",
            "D\n",
            "A\n",
            "B\n",
            "C\n",
            "D\n",
            "A\n",
            "B\n",
            "C\n",
            "D\n",
            "A\n",
            "B\n",
            "C\n",
            "D\n",
            "A\n",
            "B\n",
            "C\n",
            "D\n",
            "A\n",
            "B\n",
            "C\n",
            "D\n",
            "A\n",
            "B\n",
            "C\n",
            "D\n",
            "A\n",
            "B\n",
            "C\n",
            "D\n",
            "A\n",
            "B\n",
            "C\n",
            "D\n",
            "A\n",
            "B\n",
            "C\n",
            "D\n",
            "A\n",
            "B\n",
            "C\n",
            "D\n",
            "A\n",
            "B\n",
            "C\n",
            "D\n",
            "A\n",
            "B\n",
            "C\n",
            "D\n",
            "A\n",
            "B\n",
            "C\n",
            "D\n",
            "A\n",
            "B\n",
            "C\n",
            "D\n",
            "A\n",
            "B\n",
            "C\n",
            "D\n",
            "A\n",
            "B\n",
            "C\n",
            "D\n",
            "A\n",
            "B\n",
            "C\n",
            "D\n",
            "A\n",
            "B\n",
            "C\n",
            "D\n",
            "A\n",
            "B\n",
            "C\n",
            "D\n",
            "A\n",
            "B\n",
            "C\n",
            "D\n",
            "A\n",
            "B\n",
            "C\n",
            "D\n",
            "A\n",
            "B\n",
            "C\n",
            "D\n",
            "A\n",
            "B\n",
            "C\n",
            "D\n",
            "A\n",
            "B\n",
            "C\n",
            "D\n",
            "A\n",
            "B\n",
            "C\n",
            "D\n",
            "A\n",
            "B\n",
            "C\n",
            "D\n",
            "A\n",
            "B\n",
            "C\n",
            "D\n",
            "A\n",
            "B\n",
            "C\n",
            "D\n",
            "A\n",
            "B\n",
            "C\n",
            "D\n",
            "A\n",
            "B\n",
            "C\n",
            "D\n",
            "A\n",
            "B\n",
            "C\n",
            "D\n",
            "A\n",
            "B\n",
            "C\n",
            "D\n",
            "A\n",
            "B\n",
            "C\n",
            "D\n",
            "A\n",
            "B\n",
            "C\n",
            "D\n",
            "A\n",
            "B\n",
            "C\n",
            "D\n",
            "A\n",
            "B\n",
            "C\n",
            "D\n",
            "A\n",
            "B\n",
            "C\n",
            "D\n",
            "A\n",
            "B\n",
            "C\n",
            "D\n",
            "A\n",
            "B\n",
            "C\n",
            "D\n",
            "A\n",
            "B\n",
            "C\n",
            "D\n",
            "A\n",
            "B\n",
            "C\n",
            "D\n",
            "A\n",
            "B\n",
            "C\n",
            "D\n",
            "A\n",
            "B\n",
            "C\n",
            "D\n",
            "A\n",
            "B\n",
            "C\n",
            "D\n",
            "A\n",
            "B\n",
            "C\n",
            "D\n",
            "A\n",
            "B\n",
            "C\n",
            "D\n",
            "A\n",
            "B\n",
            "C\n",
            "D\n",
            "A\n",
            "B\n",
            "C\n",
            "D\n",
            "A\n",
            "B\n",
            "C\n",
            "D\n",
            "A\n",
            "B\n",
            "C\n",
            "D\n",
            "A\n",
            "B\n",
            "C\n",
            "D\n",
            "A\n",
            "B\n",
            "C\n",
            "D\n",
            "A\n",
            "B\n",
            "C\n",
            "D\n",
            "A\n",
            "B\n",
            "C\n",
            "D\n",
            "A\n",
            "B\n",
            "C\n",
            "D\n",
            "A\n",
            "B\n",
            "C\n",
            "D\n",
            "A\n",
            "B\n",
            "C\n",
            "D\n",
            "A\n",
            "B\n",
            "C\n",
            "D\n",
            "A\n",
            "B\n",
            "C\n",
            "D\n",
            "A\n",
            "B\n",
            "C\n",
            "D\n",
            "A\n",
            "B\n",
            "C\n",
            "D\n",
            "A\n",
            "B\n",
            "C\n",
            "D\n",
            "A\n",
            "B\n",
            "C\n",
            "D\n",
            "A\n",
            "B\n",
            "C\n",
            "D\n",
            "A\n",
            "B\n",
            "C\n",
            "D\n",
            "A\n",
            "B\n",
            "C\n",
            "D\n",
            "A\n",
            "B\n",
            "C\n",
            "D\n",
            "A\n",
            "B\n",
            "C\n",
            "D\n",
            "A\n",
            "B\n",
            "C\n",
            "D\n",
            "A\n",
            "B\n",
            "C\n",
            "D\n",
            "A\n",
            "B\n",
            "C\n",
            "D\n",
            "A\n",
            "B\n",
            "C\n",
            "D\n",
            "A\n",
            "B\n",
            "C\n",
            "D\n",
            "A\n",
            "B\n",
            "C\n",
            "D\n",
            "A\n",
            "B\n",
            "C\n",
            "D\n",
            "A\n",
            "B\n",
            "C\n",
            "D\n",
            "A\n",
            "B\n",
            "C\n",
            "D\n",
            "A\n",
            "B\n",
            "C\n",
            "D\n",
            "A\n",
            "B\n",
            "C\n",
            "D\n",
            "A\n",
            "B\n",
            "C\n",
            "D\n",
            "A\n",
            "B\n",
            "C\n",
            "D\n",
            "A\n",
            "B\n",
            "C\n",
            "D\n",
            "A\n",
            "B\n",
            "C\n",
            "D\n",
            "A\n",
            "B\n",
            "C\n",
            "D\n",
            "A\n",
            "B\n",
            "C\n",
            "D\n",
            "A\n",
            "B\n",
            "C\n",
            "D\n",
            "A\n",
            "B\n",
            "C\n",
            "D\n",
            "A\n",
            "B\n",
            "C\n",
            "D\n",
            "A\n",
            "B\n",
            "C\n",
            "D\n",
            "A\n",
            "B\n",
            "C\n",
            "D\n",
            "A\n",
            "B\n",
            "C\n",
            "D\n",
            "A\n",
            "B\n",
            "C\n",
            "D\n",
            "A\n",
            "B\n",
            "C\n",
            "D\n",
            "A\n",
            "B\n",
            "C\n",
            "D\n",
            "A\n",
            "B\n",
            "C\n",
            "D\n",
            "A\n",
            "B\n",
            "C\n",
            "D\n",
            "A\n",
            "B\n",
            "C\n",
            "D\n",
            "A\n",
            "B\n",
            "C\n",
            "D\n",
            "A\n",
            "B\n",
            "C\n",
            "D\n",
            "A\n",
            "B\n",
            "C\n",
            "D\n",
            "A\n",
            "B\n",
            "C\n",
            "D\n",
            "A\n",
            "B\n",
            "C\n",
            "D\n",
            "A\n",
            "B\n",
            "C\n",
            "D\n",
            "A\n",
            "B\n",
            "C\n",
            "D\n",
            "A\n",
            "B\n",
            "C\n",
            "D\n",
            "A\n",
            "B\n",
            "C\n",
            "D\n",
            "A\n",
            "B\n",
            "C\n",
            "D\n",
            "A\n",
            "B\n",
            "C\n",
            "D\n",
            "A\n",
            "B\n",
            "C\n",
            "D\n",
            "A\n",
            "B\n",
            "C\n",
            "D\n",
            "A\n",
            "B\n",
            "C\n",
            "D\n",
            "A\n",
            "B\n",
            "C\n",
            "D\n",
            "A\n",
            "B\n",
            "C\n",
            "D\n",
            "A\n",
            "B\n",
            "C\n",
            "D\n",
            "A\n",
            "B\n",
            "C\n",
            "D\n",
            "A\n",
            "B\n",
            "C\n",
            "D\n",
            "A\n",
            "B\n",
            "C\n",
            "D\n",
            "A\n",
            "B\n",
            "C\n",
            "D\n",
            "A\n",
            "B\n",
            "C\n",
            "D\n",
            "A\n",
            "B\n",
            "C\n",
            "D\n",
            "A\n",
            "B\n",
            "C\n",
            "D\n",
            "A\n",
            "B\n",
            "C\n",
            "D\n",
            "A\n",
            "B\n",
            "C\n",
            "D\n",
            "A\n",
            "B\n",
            "C\n",
            "D\n",
            "A\n",
            "B\n",
            "C\n",
            "D\n",
            "A\n",
            "B\n",
            "C\n",
            "D\n",
            "A\n",
            "B\n",
            "C\n",
            "D\n",
            "A\n",
            "B\n",
            "C\n",
            "D\n",
            "A\n",
            "B\n",
            "C\n",
            "D\n",
            "A\n",
            "B\n",
            "C\n",
            "D\n",
            "A\n",
            "B\n",
            "C\n",
            "D\n",
            "A\n",
            "B\n",
            "C\n",
            "D\n",
            "A\n",
            "B\n",
            "C\n",
            "D\n",
            "A\n",
            "B\n",
            "C\n",
            "D\n",
            "A\n",
            "B\n",
            "C\n",
            "D\n",
            "A\n",
            "B\n",
            "C\n",
            "D\n",
            "A\n",
            "B\n",
            "C\n",
            "D\n",
            "A\n",
            "B\n",
            "C\n",
            "D\n",
            "A\n",
            "B\n",
            "C\n",
            "D\n",
            "A\n",
            "B\n",
            "C\n",
            "D\n",
            "A\n",
            "B\n",
            "C\n",
            "D\n",
            "A\n",
            "B\n",
            "C\n",
            "D\n",
            "A\n",
            "B\n",
            "C\n",
            "D\n",
            "A\n",
            "B\n",
            "C\n",
            "D\n",
            "A\n",
            "B\n",
            "C\n",
            "D\n",
            "A\n",
            "B\n",
            "C\n",
            "D\n",
            "A\n",
            "B\n",
            "C\n",
            "D\n",
            "A\n",
            "B\n",
            "C\n",
            "D\n",
            "A\n",
            "B\n",
            "C\n",
            "D\n",
            "A\n",
            "B\n",
            "C\n",
            "D\n",
            "A\n",
            "B\n",
            "C\n",
            "D\n",
            "A\n",
            "B\n",
            "C\n",
            "D\n",
            "A\n",
            "B\n",
            "C\n",
            "D\n",
            "A\n",
            "B\n",
            "C\n",
            "D\n",
            "A\n",
            "B\n",
            "C\n",
            "D\n",
            "A\n",
            "B\n",
            "C\n",
            "D\n",
            "A\n",
            "B\n",
            "C\n",
            "D\n",
            "A\n",
            "B\n",
            "C\n",
            "D\n",
            "A\n",
            "B\n",
            "C\n",
            "D\n",
            "A\n",
            "B\n",
            "C\n",
            "D\n",
            "A\n",
            "B\n",
            "C\n",
            "D\n",
            "A\n",
            "B\n",
            "C\n",
            "D\n",
            "A\n",
            "B\n",
            "C\n",
            "D\n",
            "A\n",
            "B\n",
            "C\n",
            "D\n",
            "A\n",
            "B\n",
            "C\n",
            "D\n",
            "A\n",
            "B\n",
            "C\n",
            "D\n",
            "A\n",
            "B\n",
            "C\n",
            "D\n",
            "A\n",
            "B\n",
            "C\n",
            "D\n",
            "A\n",
            "B\n",
            "C\n",
            "D\n",
            "A\n",
            "B\n",
            "C\n",
            "D\n",
            "A\n",
            "B\n",
            "C\n",
            "D\n",
            "A\n",
            "B\n",
            "C\n",
            "D\n",
            "A\n",
            "B\n",
            "C\n",
            "D\n",
            "A\n",
            "B\n",
            "C\n",
            "D\n",
            "A\n",
            "B\n",
            "C\n",
            "D\n",
            "A\n",
            "B\n",
            "C\n",
            "D\n",
            "A\n",
            "B\n",
            "C\n",
            "D\n",
            "A\n",
            "B\n",
            "C\n",
            "D\n",
            "A\n",
            "B\n",
            "C\n",
            "D\n",
            "A\n",
            "B\n",
            "C\n",
            "D\n",
            "A\n",
            "B\n",
            "C\n",
            "D\n",
            "A\n",
            "B\n",
            "C\n",
            "D\n",
            "A\n",
            "B\n",
            "C\n",
            "D\n",
            "A\n",
            "B\n",
            "C\n",
            "D\n",
            "A\n",
            "B\n",
            "C\n",
            "D\n",
            "A\n",
            "B\n",
            "C\n",
            "D\n",
            "A\n",
            "B\n",
            "C\n",
            "D\n",
            "A\n",
            "B\n",
            "C\n",
            "D\n",
            "A\n",
            "B\n",
            "C\n",
            "D\n",
            "A\n",
            "B\n",
            "C\n",
            "D\n",
            "A\n",
            "B\n",
            "C\n",
            "D\n",
            "A\n",
            "B\n",
            "C\n",
            "D\n",
            "A\n",
            "B\n",
            "C\n",
            "D\n",
            "A\n",
            "B\n",
            "C\n",
            "D\n",
            "A\n",
            "B\n",
            "C\n",
            "D\n",
            "A\n",
            "B\n",
            "C\n",
            "D\n",
            "A\n",
            "B\n",
            "C\n",
            "D\n",
            "A\n",
            "B\n",
            "C\n",
            "D\n",
            "A\n",
            "B\n",
            "C\n",
            "D\n",
            "A\n",
            "B\n",
            "C\n",
            "D\n",
            "A\n",
            "B\n",
            "C\n",
            "D\n",
            "A\n",
            "B\n",
            "C\n",
            "D\n",
            "A\n",
            "B\n",
            "C\n",
            "D\n",
            "A\n",
            "B\n",
            "C\n",
            "D\n",
            "A\n",
            "B\n",
            "C\n",
            "D\n",
            "A\n",
            "B\n",
            "C\n",
            "D\n",
            "A\n",
            "B\n",
            "C\n",
            "D\n",
            "A\n",
            "B\n",
            "C\n",
            "D\n",
            "A\n",
            "B\n",
            "C\n",
            "D\n",
            "A\n",
            "B\n",
            "C\n",
            "D\n",
            "A\n",
            "B\n",
            "C\n",
            "D\n",
            "A\n",
            "B\n",
            "C\n",
            "D\n",
            "A\n",
            "B\n",
            "C\n",
            "D\n",
            "A\n",
            "B\n",
            "C\n",
            "D\n",
            "A\n",
            "B\n",
            "C\n",
            "D\n",
            "A\n",
            "B\n",
            "C\n",
            "D\n",
            "A\n",
            "B\n",
            "C\n",
            "D\n",
            "A\n",
            "B\n",
            "C\n",
            "D\n",
            "A\n",
            "B\n",
            "C\n",
            "D\n",
            "A\n",
            "B\n",
            "C\n",
            "D\n",
            "A\n",
            "B\n",
            "C\n",
            "D\n",
            "A\n",
            "B\n",
            "C\n",
            "D\n",
            "A\n",
            "B\n",
            "C\n",
            "D\n",
            "A\n",
            "B\n",
            "C\n",
            "D\n",
            "A\n",
            "B\n",
            "C\n",
            "D\n",
            "A\n",
            "B\n",
            "C\n",
            "D\n",
            "A\n",
            "B\n",
            "C\n",
            "D\n",
            "A\n",
            "B\n",
            "C\n",
            "D\n",
            "A\n",
            "B\n",
            "C\n",
            "D\n",
            "A\n",
            "B\n",
            "C\n",
            "D\n",
            "A\n",
            "B\n",
            "C\n",
            "D\n",
            "A\n",
            "B\n",
            "C\n",
            "D\n",
            "A\n",
            "B\n",
            "C\n",
            "D\n",
            "A\n",
            "B\n",
            "C\n",
            "D\n",
            "A\n",
            "B\n",
            "C\n",
            "D\n",
            "A\n",
            "B\n",
            "C\n",
            "D\n",
            "A\n",
            "B\n",
            "C\n",
            "D\n",
            "A\n",
            "B\n",
            "C\n",
            "D\n",
            "A\n",
            "B\n",
            "C\n",
            "D\n",
            "A\n",
            "B\n",
            "C\n",
            "D\n",
            "A\n",
            "B\n",
            "C\n",
            "D\n",
            "A\n",
            "B\n",
            "C\n",
            "D\n",
            "A\n",
            "B\n",
            "C\n",
            "D\n",
            "A\n",
            "B\n",
            "C\n",
            "D\n",
            "A\n",
            "B\n",
            "C\n",
            "D\n",
            "A\n",
            "B\n",
            "C\n",
            "D\n",
            "A\n",
            "B\n",
            "C\n",
            "D\n",
            "A\n",
            "B\n",
            "C\n",
            "D\n",
            "A\n",
            "B\n",
            "C\n",
            "D\n",
            "A\n",
            "B\n",
            "C\n",
            "D\n",
            "A\n",
            "B\n",
            "C\n",
            "D\n",
            "A\n",
            "B\n",
            "C\n",
            "D\n",
            "A\n",
            "B\n",
            "C\n",
            "D\n",
            "A\n",
            "B\n",
            "C\n",
            "D\n",
            "A\n",
            "B\n",
            "C\n",
            "D\n",
            "A\n",
            "B\n",
            "C\n",
            "D\n",
            "A\n",
            "B\n",
            "C\n",
            "D\n",
            "A\n",
            "B\n",
            "C\n",
            "D\n",
            "A\n",
            "B\n",
            "C\n",
            "D\n",
            "A\n",
            "B\n",
            "C\n",
            "D\n",
            "A\n",
            "B\n",
            "C\n",
            "D\n",
            "A\n",
            "B\n",
            "C\n",
            "D\n",
            "A\n",
            "B\n",
            "C\n",
            "D\n",
            "A\n",
            "B\n",
            "C\n",
            "D\n",
            "A\n",
            "B\n",
            "C\n",
            "D\n",
            "A\n",
            "B\n",
            "C\n",
            "D\n",
            "A\n",
            "B\n",
            "C\n",
            "D\n",
            "A\n",
            "B\n",
            "C\n",
            "D\n",
            "A\n",
            "B\n",
            "C\n",
            "D\n",
            "A\n",
            "B\n",
            "C\n",
            "D\n",
            "A\n",
            "B\n",
            "C\n",
            "D\n",
            "A\n",
            "B\n",
            "C\n",
            "D\n",
            "A\n",
            "B\n",
            "C\n",
            "D\n",
            "A\n",
            "B\n",
            "C\n",
            "D\n",
            "A\n",
            "B\n",
            "C\n",
            "D\n",
            "A\n",
            "B\n",
            "C\n",
            "D\n",
            "A\n",
            "B\n",
            "C\n",
            "D\n",
            "A\n",
            "B\n",
            "C\n",
            "D\n",
            "A\n",
            "B\n",
            "C\n",
            "D\n",
            "A\n",
            "B\n",
            "C\n",
            "D\n",
            "A\n",
            "B\n",
            "C\n",
            "D\n",
            "A\n",
            "B\n",
            "C\n",
            "D\n",
            "A\n",
            "B\n",
            "C\n",
            "D\n",
            "A\n",
            "B\n",
            "C\n",
            "D\n",
            "A\n",
            "B\n",
            "C\n",
            "D\n",
            "A\n",
            "B\n",
            "C\n",
            "D\n",
            "A\n",
            "B\n",
            "C\n",
            "D\n",
            "A\n",
            "B\n",
            "C\n",
            "D\n",
            "A\n",
            "B\n",
            "C\n",
            "D\n",
            "A\n",
            "B\n",
            "C\n",
            "D\n",
            "A\n",
            "B\n",
            "C\n",
            "D\n",
            "A\n",
            "B\n",
            "C\n",
            "D\n",
            "A\n",
            "B\n",
            "C\n",
            "D\n",
            "A\n",
            "B\n",
            "C\n",
            "D\n",
            "A\n",
            "B\n",
            "C\n",
            "D\n",
            "A\n",
            "B\n",
            "C\n",
            "D\n",
            "A\n",
            "B\n",
            "C\n",
            "D\n",
            "A\n",
            "B\n",
            "C\n",
            "D\n",
            "A\n",
            "B\n",
            "C\n",
            "D\n",
            "A\n",
            "B\n",
            "C\n",
            "D\n",
            "A\n",
            "B\n",
            "C\n",
            "D\n",
            "A\n",
            "B\n",
            "C\n",
            "D\n",
            "A\n",
            "B\n",
            "C\n",
            "D\n",
            "A\n",
            "B\n",
            "C\n",
            "D\n",
            "A\n",
            "B\n",
            "C\n",
            "D\n",
            "A\n",
            "B\n",
            "C\n",
            "D\n",
            "A\n",
            "B\n",
            "C\n",
            "D\n",
            "A\n",
            "B\n",
            "C\n",
            "D\n",
            "A\n",
            "B\n",
            "C\n",
            "D\n",
            "A\n",
            "B\n",
            "C\n",
            "D\n",
            "A\n",
            "B\n",
            "C\n",
            "D\n",
            "A\n",
            "B\n",
            "C\n",
            "D\n",
            "A\n",
            "B\n",
            "C\n",
            "D\n",
            "A\n",
            "B\n",
            "C\n",
            "D\n",
            "A\n",
            "B\n",
            "C\n",
            "D\n",
            "A\n",
            "B\n",
            "C\n",
            "D\n",
            "A\n",
            "B\n",
            "C\n",
            "D\n",
            "A\n",
            "B\n",
            "C\n",
            "D\n",
            "A\n",
            "B\n",
            "C\n",
            "D\n",
            "A\n",
            "B\n",
            "C\n",
            "D\n",
            "A\n",
            "B\n",
            "C\n",
            "D\n",
            "A\n",
            "B\n",
            "C\n",
            "D\n",
            "A\n",
            "B\n",
            "C\n",
            "D\n",
            "A\n",
            "B\n",
            "C\n",
            "D\n",
            "A\n",
            "B\n",
            "C\n",
            "D\n",
            "A\n",
            "B\n",
            "C\n",
            "D\n",
            "A\n",
            "B\n",
            "C\n",
            "D\n",
            "A\n",
            "B\n",
            "C\n",
            "D\n",
            "A\n",
            "B\n",
            "C\n",
            "D\n",
            "A\n",
            "B\n",
            "C\n",
            "D\n",
            "A\n",
            "B\n",
            "C\n",
            "D\n",
            "A\n",
            "B\n",
            "C\n",
            "D\n",
            "A\n",
            "B\n",
            "C\n",
            "D\n",
            "A\n",
            "B\n",
            "C\n",
            "D\n",
            "A\n",
            "B\n",
            "C\n",
            "D\n",
            "A\n",
            "B\n",
            "C\n",
            "D\n",
            "A\n",
            "B\n",
            "C\n",
            "D\n",
            "A\n",
            "B\n",
            "C\n",
            "D\n",
            "A\n",
            "B\n",
            "C\n",
            "D\n",
            "A\n",
            "B\n",
            "C\n",
            "D\n",
            "A\n",
            "B\n",
            "C\n",
            "D\n",
            "A\n",
            "B\n",
            "C\n",
            "D\n",
            "A\n",
            "B\n",
            "C\n",
            "D\n",
            "A\n",
            "B\n",
            "C\n",
            "D\n",
            "A\n",
            "B\n",
            "C\n",
            "D\n",
            "A\n",
            "B\n",
            "C\n",
            "D\n",
            "A\n",
            "B\n",
            "C\n",
            "D\n",
            "A\n",
            "B\n",
            "C\n",
            "D\n",
            "A\n",
            "B\n",
            "C\n",
            "D\n",
            "A\n",
            "B\n",
            "C\n",
            "D\n",
            "A\n",
            "B\n",
            "C\n",
            "D\n",
            "A\n",
            "B\n",
            "C\n",
            "D\n",
            "A\n",
            "B\n",
            "C\n",
            "D\n",
            "A\n",
            "B\n",
            "C\n",
            "D\n",
            "A\n",
            "B\n",
            "C\n",
            "D\n",
            "A\n",
            "B\n",
            "C\n",
            "D\n",
            "A\n",
            "B\n",
            "C\n",
            "D\n",
            "A\n",
            "B\n",
            "C\n",
            "D\n",
            "A\n",
            "B\n",
            "C\n",
            "D\n",
            "A\n",
            "B\n",
            "C\n",
            "D\n",
            "A\n",
            "B\n",
            "C\n",
            "D\n",
            "A\n",
            "B\n",
            "C\n",
            "D\n",
            "A\n",
            "B\n",
            "C\n",
            "D\n",
            "A\n",
            "B\n",
            "C\n",
            "D\n",
            "A\n",
            "B\n",
            "C\n",
            "D\n",
            "A\n",
            "B\n",
            "C\n",
            "D\n",
            "A\n",
            "B\n",
            "C\n",
            "D\n",
            "A\n",
            "B\n",
            "C\n",
            "D\n",
            "A\n",
            "B\n",
            "C\n",
            "D\n",
            "A\n",
            "B\n",
            "C\n",
            "D\n",
            "A\n",
            "B\n",
            "C\n",
            "D\n",
            "A\n",
            "B\n",
            "C\n",
            "D\n",
            "A\n",
            "B\n",
            "C\n",
            "D\n",
            "A\n",
            "B\n",
            "C\n",
            "D\n",
            "A\n",
            "B\n",
            "C\n",
            "D\n",
            "A\n",
            "B\n",
            "C\n",
            "D\n",
            "A\n",
            "B\n",
            "C\n",
            "D\n",
            "A\n",
            "B\n",
            "C\n",
            "D\n",
            "A\n",
            "B\n",
            "C\n",
            "D\n",
            "A\n",
            "B\n",
            "C\n",
            "D\n",
            "A\n",
            "B\n",
            "C\n",
            "D\n",
            "A\n",
            "B\n",
            "C\n",
            "D\n",
            "A\n",
            "B\n",
            "C\n",
            "D\n",
            "A\n",
            "B\n",
            "C\n",
            "D\n",
            "A\n",
            "B\n",
            "C\n",
            "D\n",
            "A\n",
            "B\n",
            "C\n",
            "D\n",
            "A\n",
            "B\n",
            "C\n",
            "D\n",
            "A\n",
            "B\n",
            "C\n",
            "D\n",
            "A\n",
            "B\n",
            "C\n",
            "D\n",
            "A\n",
            "B\n",
            "C\n",
            "D\n",
            "A\n",
            "B\n",
            "C\n",
            "D\n",
            "A\n",
            "B\n",
            "C\n",
            "D\n",
            "A\n",
            "B\n",
            "C\n",
            "D\n",
            "A\n",
            "B\n",
            "C\n",
            "D\n",
            "A\n",
            "B\n",
            "C\n",
            "D\n",
            "A\n",
            "B\n",
            "C\n",
            "D\n",
            "A\n",
            "B\n",
            "C\n",
            "D\n",
            "A\n",
            "B\n",
            "C\n",
            "D\n",
            "A\n",
            "B\n",
            "C\n",
            "D\n",
            "A\n",
            "B\n",
            "C\n",
            "D\n",
            "A\n",
            "B\n",
            "C\n",
            "D\n",
            "A\n",
            "B\n",
            "C\n",
            "D\n",
            "A\n",
            "B\n",
            "C\n",
            "D\n",
            "A\n",
            "B\n",
            "C\n",
            "D\n",
            "A\n",
            "B\n",
            "C\n",
            "D\n",
            "A\n",
            "B\n",
            "C\n",
            "D\n",
            "A\n",
            "B\n",
            "C\n",
            "D\n",
            "A\n",
            "B\n",
            "C\n",
            "D\n",
            "A\n",
            "B\n",
            "C\n",
            "D\n",
            "A\n",
            "B\n",
            "C\n",
            "D\n",
            "A\n",
            "B\n",
            "C\n",
            "D\n",
            "A\n",
            "B\n",
            "C\n",
            "D\n",
            "A\n",
            "B\n",
            "C\n",
            "D\n",
            "A\n",
            "B\n",
            "C\n",
            "D\n",
            "A\n",
            "B\n",
            "C\n",
            "D\n",
            "A\n",
            "B\n",
            "C\n",
            "D\n",
            "A\n",
            "B\n",
            "C\n",
            "D\n",
            "A\n",
            "B\n",
            "C\n",
            "D\n",
            "A\n",
            "B\n",
            "C\n",
            "D\n",
            "A\n",
            "B\n",
            "C\n",
            "D\n",
            "A\n",
            "B\n",
            "C\n",
            "D\n",
            "A\n",
            "B\n",
            "C\n",
            "D\n",
            "A\n",
            "B\n",
            "C\n",
            "D\n",
            "A\n",
            "B\n",
            "C\n",
            "D\n",
            "A\n",
            "B\n",
            "C\n",
            "D\n",
            "A\n",
            "B\n",
            "C\n",
            "D\n",
            "A\n",
            "B\n",
            "C\n",
            "D\n",
            "A\n",
            "B\n",
            "C\n",
            "D\n",
            "A\n",
            "B\n",
            "C\n",
            "D\n",
            "A\n",
            "B\n",
            "C\n",
            "D\n",
            "A\n",
            "B\n",
            "C\n",
            "D\n",
            "A\n",
            "B\n",
            "C\n",
            "D\n",
            "A\n",
            "B\n",
            "C\n",
            "D\n",
            "A\n",
            "B\n",
            "C\n",
            "D\n",
            "A\n",
            "B\n",
            "C\n",
            "D\n",
            "A\n",
            "B\n",
            "C\n",
            "D\n",
            "A\n",
            "B\n",
            "C\n",
            "D\n",
            "A\n",
            "B\n",
            "C\n",
            "D\n",
            "A\n",
            "B\n",
            "C\n",
            "D\n",
            "A\n",
            "B\n",
            "C\n",
            "D\n",
            "A\n",
            "B\n",
            "C\n",
            "D\n",
            "A\n",
            "B\n",
            "C\n",
            "D\n",
            "A\n",
            "B\n",
            "C\n",
            "D\n",
            "A\n",
            "B\n",
            "C\n",
            "D\n",
            "A\n",
            "B\n",
            "C\n",
            "D\n",
            "A\n",
            "B\n",
            "C\n",
            "D\n",
            "A\n",
            "B\n",
            "C\n",
            "D\n",
            "A\n",
            "B\n",
            "C\n",
            "D\n",
            "A\n",
            "B\n",
            "C\n",
            "D\n",
            "A\n",
            "B\n",
            "C\n",
            "D\n",
            "A\n",
            "B\n",
            "C\n",
            "D\n",
            "A\n",
            "B\n",
            "C\n",
            "D\n",
            "A\n",
            "B\n",
            "C\n",
            "D\n",
            "A\n",
            "B\n",
            "C\n",
            "D\n",
            "A\n",
            "B\n",
            "C\n",
            "D\n",
            "A\n",
            "B\n",
            "C\n",
            "D\n",
            "A\n",
            "B\n",
            "C\n",
            "D\n",
            "A\n",
            "B\n",
            "C\n",
            "D\n",
            "A\n",
            "B\n",
            "C\n",
            "D\n",
            "A\n",
            "B\n",
            "C\n",
            "D\n",
            "A\n",
            "B\n",
            "C\n",
            "D\n",
            "A\n",
            "B\n",
            "C\n",
            "D\n",
            "A\n",
            "B\n",
            "C\n",
            "D\n",
            "A\n",
            "B\n",
            "C\n",
            "D\n",
            "A\n",
            "B\n",
            "C\n",
            "D\n",
            "A\n",
            "B\n",
            "C\n",
            "D\n",
            "A\n",
            "B\n",
            "C\n",
            "D\n",
            "A\n",
            "B\n",
            "C\n",
            "D\n",
            "A\n",
            "B\n",
            "C\n",
            "D\n",
            "A\n",
            "B\n",
            "C\n",
            "D\n",
            "A\n",
            "B\n",
            "C\n",
            "D\n",
            "A\n",
            "B\n",
            "C\n",
            "D\n",
            "A\n",
            "B\n",
            "C\n",
            "D\n",
            "A\n",
            "B\n",
            "C\n",
            "D\n",
            "A\n",
            "B\n",
            "C\n",
            "D\n",
            "A\n",
            "B\n",
            "C\n",
            "D\n",
            "A\n",
            "B\n",
            "C\n",
            "D\n",
            "A\n",
            "B\n",
            "C\n",
            "D\n",
            "A\n",
            "B\n",
            "C\n",
            "D\n",
            "A\n",
            "B\n",
            "C\n",
            "D\n",
            "A\n",
            "B\n",
            "C\n",
            "D\n",
            "A\n",
            "B\n",
            "C\n",
            "D\n",
            "A\n",
            "B\n",
            "C\n",
            "D\n",
            "A\n",
            "B\n",
            "C\n",
            "D\n",
            "A\n",
            "B\n",
            "C\n",
            "D\n",
            "A\n",
            "B\n",
            "C\n",
            "D\n",
            "A\n",
            "B\n",
            "C\n",
            "D\n",
            "A\n",
            "B\n",
            "C\n",
            "D\n",
            "A\n",
            "B\n",
            "C\n",
            "D\n",
            "A\n",
            "B\n",
            "C\n",
            "D\n",
            "A\n",
            "B\n",
            "C\n",
            "D\n",
            "A\n",
            "B\n",
            "C\n",
            "D\n",
            "A\n",
            "B\n",
            "C\n",
            "D\n",
            "A\n",
            "B\n",
            "C\n",
            "D\n",
            "A\n",
            "B\n",
            "C\n",
            "D\n",
            "A\n",
            "B\n",
            "C\n",
            "D\n",
            "A\n",
            "B\n",
            "C\n",
            "D\n",
            "A\n",
            "B\n",
            "C\n",
            "D\n",
            "A\n",
            "B\n",
            "C\n",
            "D\n",
            "A\n",
            "B\n",
            "C\n",
            "D\n",
            "A\n",
            "B\n",
            "C\n",
            "D\n",
            "A\n",
            "B\n",
            "C\n",
            "D\n",
            "A\n",
            "B\n",
            "C\n",
            "D\n",
            "A\n",
            "B\n",
            "C\n",
            "D\n",
            "A\n",
            "B\n",
            "C\n",
            "D\n",
            "A\n",
            "B\n",
            "C\n",
            "D\n",
            "A\n",
            "B\n",
            "C\n",
            "D\n",
            "A\n",
            "B\n",
            "C\n",
            "D\n",
            "A\n",
            "B\n",
            "C\n",
            "D\n",
            "A\n",
            "B\n",
            "C\n",
            "D\n",
            "A\n",
            "B\n",
            "C\n",
            "D\n",
            "A\n",
            "B\n",
            "C\n",
            "D\n",
            "A\n",
            "B\n",
            "C\n",
            "D\n",
            "A\n",
            "B\n",
            "C\n",
            "D\n",
            "A\n",
            "B\n",
            "C\n",
            "D\n",
            "A\n",
            "B\n",
            "C\n",
            "D\n",
            "A\n",
            "B\n",
            "C\n",
            "D\n",
            "A\n",
            "B\n",
            "C\n",
            "D\n",
            "A\n",
            "B\n",
            "C\n",
            "D\n",
            "A\n",
            "B\n",
            "C\n",
            "D\n",
            "A\n",
            "B\n",
            "C\n",
            "D\n",
            "A\n",
            "B\n",
            "C\n",
            "D\n",
            "A\n",
            "B\n",
            "C\n",
            "D\n",
            "A\n",
            "B\n",
            "C\n",
            "D\n",
            "A\n",
            "B\n",
            "C\n",
            "D\n",
            "A\n",
            "B\n",
            "C\n",
            "D\n",
            "A\n",
            "B\n",
            "C\n",
            "D\n",
            "A\n",
            "B\n",
            "C\n",
            "D\n",
            "A\n",
            "B\n",
            "C\n",
            "D\n",
            "A\n",
            "B\n",
            "C\n",
            "D\n",
            "A\n",
            "B\n",
            "C\n",
            "D\n",
            "A\n",
            "B\n",
            "C\n",
            "D\n",
            "A\n",
            "B\n",
            "C\n",
            "D\n",
            "A\n",
            "B\n",
            "C\n",
            "D\n",
            "A\n",
            "B\n",
            "C\n",
            "D\n",
            "A\n",
            "B\n",
            "C\n",
            "D\n",
            "A\n",
            "B\n",
            "C\n",
            "D\n",
            "A\n",
            "B\n",
            "C\n",
            "D\n",
            "A\n",
            "B\n",
            "C\n",
            "D\n",
            "A\n",
            "B\n",
            "C\n",
            "D\n",
            "A\n",
            "B\n",
            "C\n",
            "D\n",
            "A\n",
            "B\n",
            "C\n",
            "D\n",
            "A\n",
            "B\n",
            "C\n",
            "D\n",
            "A\n",
            "B\n",
            "C\n",
            "D\n",
            "A\n",
            "B\n",
            "C\n",
            "D\n",
            "A\n",
            "B\n",
            "C\n",
            "D\n",
            "A\n",
            "B\n",
            "C\n",
            "D\n",
            "A\n",
            "B\n",
            "C\n",
            "D\n",
            "A\n",
            "B\n",
            "C\n",
            "D\n",
            "A\n",
            "B\n",
            "C\n",
            "D\n",
            "A\n",
            "B\n",
            "C\n",
            "D\n",
            "A\n",
            "B\n",
            "C\n",
            "D\n",
            "A\n",
            "B\n",
            "C\n",
            "D\n",
            "A\n",
            "B\n",
            "C\n",
            "D\n",
            "A\n",
            "B\n",
            "C\n",
            "D\n",
            "A\n",
            "B\n",
            "C\n",
            "D\n",
            "A\n",
            "B\n",
            "C\n",
            "D\n",
            "A\n",
            "B\n",
            "C\n",
            "D\n",
            "A\n",
            "B\n",
            "C\n",
            "D\n",
            "A\n",
            "B\n",
            "C\n",
            "D\n",
            "A\n",
            "B\n",
            "C\n",
            "D\n",
            "A\n",
            "B\n",
            "C\n",
            "D\n",
            "A\n",
            "B\n",
            "C\n",
            "D\n",
            "A\n",
            "B\n",
            "C\n",
            "D\n",
            "A\n",
            "B\n",
            "C\n",
            "D\n",
            "A\n",
            "B\n",
            "C\n",
            "D\n",
            "A\n",
            "B\n",
            "C\n",
            "D\n",
            "A\n",
            "B\n",
            "C\n",
            "D\n",
            "A\n",
            "B\n",
            "C\n",
            "D\n",
            "A\n",
            "B\n",
            "C\n",
            "D\n",
            "A\n",
            "B\n",
            "C\n",
            "D\n",
            "A\n",
            "B\n",
            "C\n",
            "D\n",
            "A\n",
            "B\n",
            "C\n",
            "D\n",
            "A\n",
            "B\n",
            "C\n",
            "D\n",
            "A\n",
            "B\n",
            "C\n",
            "D\n",
            "A\n",
            "B\n",
            "C\n",
            "D\n",
            "A\n",
            "B\n",
            "C\n",
            "D\n",
            "A\n",
            "B\n",
            "C\n",
            "D\n",
            "A\n",
            "B\n",
            "C\n",
            "D\n",
            "A\n",
            "B\n",
            "C\n",
            "D\n",
            "A\n",
            "B\n",
            "C\n",
            "D\n",
            "A\n",
            "B\n",
            "C\n",
            "D\n",
            "A\n",
            "B\n",
            "C\n",
            "D\n",
            "A\n",
            "B\n",
            "C\n",
            "D\n",
            "A\n",
            "B\n",
            "C\n",
            "D\n",
            "A\n",
            "B\n",
            "C\n",
            "D\n",
            "A\n",
            "B\n",
            "C\n",
            "D\n",
            "A\n",
            "B\n",
            "C\n",
            "D\n",
            "A\n",
            "B\n",
            "C\n",
            "D\n",
            "A\n",
            "B\n",
            "C\n",
            "D\n",
            "A\n",
            "B\n",
            "C\n",
            "D\n",
            "A\n",
            "B\n",
            "C\n",
            "D\n",
            "A\n",
            "B\n",
            "C\n",
            "D\n",
            "A\n",
            "B\n",
            "C\n",
            "D\n",
            "A\n",
            "B\n",
            "C\n",
            "D\n",
            "A\n",
            "B\n",
            "C\n",
            "D\n",
            "A\n",
            "B\n",
            "C\n",
            "D\n",
            "A\n",
            "B\n",
            "C\n",
            "D\n",
            "A\n",
            "B\n",
            "C\n",
            "D\n",
            "A\n",
            "B\n",
            "C\n",
            "D\n",
            "A\n",
            "B\n",
            "C\n",
            "D\n",
            "A\n",
            "B\n",
            "C\n",
            "D\n",
            "A\n",
            "B\n",
            "C\n",
            "D\n",
            "A\n",
            "B\n",
            "C\n",
            "D\n",
            "A\n",
            "B\n",
            "C\n",
            "D\n",
            "A\n",
            "B\n",
            "C\n",
            "D\n",
            "A\n",
            "B\n",
            "C\n",
            "D\n",
            "A\n",
            "B\n",
            "C\n",
            "D\n",
            "A\n",
            "B\n",
            "C\n",
            "D\n",
            "A\n",
            "B\n",
            "C\n",
            "D\n",
            "A\n",
            "B\n",
            "C\n",
            "D\n",
            "A\n",
            "B\n",
            "C\n",
            "D\n",
            "A\n",
            "B\n",
            "C\n",
            "D\n",
            "A\n",
            "B\n",
            "C\n",
            "D\n",
            "A\n",
            "B\n",
            "C\n",
            "D\n",
            "A\n",
            "B\n",
            "C\n",
            "D\n",
            "A\n",
            "B\n",
            "C\n",
            "D\n",
            "A\n",
            "B\n",
            "C\n",
            "D\n",
            "A\n",
            "B\n",
            "C\n",
            "D\n",
            "A\n",
            "B\n",
            "C\n",
            "D\n",
            "A\n",
            "B\n",
            "C\n",
            "D\n",
            "A\n",
            "B\n",
            "C\n",
            "D\n",
            "A\n",
            "B\n",
            "C\n",
            "D\n",
            "A\n",
            "B\n",
            "C\n",
            "D\n",
            "A\n",
            "B\n",
            "C\n",
            "D\n",
            "A\n",
            "B\n",
            "C\n",
            "D\n",
            "A\n",
            "B\n",
            "C\n",
            "D\n",
            "A\n",
            "B\n",
            "C\n",
            "D\n",
            "A\n",
            "B\n",
            "C\n",
            "D\n",
            "A\n",
            "B\n",
            "C\n",
            "D\n",
            "A\n",
            "B\n",
            "C\n",
            "D\n",
            "A\n",
            "B\n",
            "C\n",
            "D\n",
            "A\n",
            "B\n",
            "C\n",
            "D\n",
            "A\n",
            "B\n",
            "C\n",
            "D\n",
            "A\n",
            "B\n",
            "C\n",
            "D\n",
            "A\n",
            "B\n",
            "C\n",
            "D\n",
            "A\n",
            "B\n",
            "C\n",
            "D\n",
            "A\n",
            "B\n",
            "C\n",
            "D\n",
            "A\n",
            "B\n",
            "C\n",
            "D\n",
            "A\n",
            "B\n",
            "C\n",
            "D\n",
            "A\n",
            "B\n",
            "C\n",
            "D\n",
            "A\n",
            "B\n",
            "C\n",
            "D\n",
            "A\n",
            "B\n",
            "C\n",
            "D\n",
            "A\n",
            "B\n",
            "C\n",
            "D\n",
            "A\n",
            "B\n",
            "C\n",
            "D\n",
            "A\n",
            "B\n",
            "C\n",
            "D\n",
            "A\n",
            "B\n",
            "C\n",
            "D\n",
            "A\n",
            "B\n",
            "C\n",
            "D\n",
            "A\n",
            "B\n",
            "C\n",
            "D\n",
            "A\n",
            "B\n",
            "C\n",
            "D\n",
            "A\n",
            "B\n",
            "C\n",
            "D\n",
            "A\n",
            "B\n",
            "C\n",
            "D\n",
            "A\n",
            "B\n",
            "C\n",
            "D\n",
            "A\n",
            "B\n",
            "C\n",
            "D\n",
            "A\n",
            "B\n",
            "C\n",
            "D\n",
            "A\n",
            "B\n",
            "C\n",
            "D\n",
            "A\n",
            "B\n",
            "C\n",
            "D\n",
            "A\n",
            "B\n",
            "C\n",
            "D\n",
            "A\n",
            "B\n",
            "C\n",
            "D\n",
            "A\n",
            "B\n",
            "C\n",
            "D\n",
            "A\n",
            "B\n",
            "C\n",
            "D\n",
            "A\n",
            "B\n",
            "C\n",
            "D\n",
            "A\n",
            "B\n",
            "C\n",
            "D\n",
            "A\n",
            "B\n",
            "C\n",
            "D\n",
            "A\n",
            "B\n",
            "C\n",
            "D\n",
            "A\n",
            "B\n",
            "C\n",
            "D\n",
            "A\n",
            "B\n",
            "C\n",
            "D\n",
            "A\n",
            "B\n",
            "C\n",
            "D\n",
            "A\n",
            "B\n",
            "C\n",
            "D\n",
            "A\n",
            "B\n",
            "C\n",
            "D\n",
            "A\n",
            "B\n",
            "C\n",
            "D\n",
            "A\n",
            "B\n",
            "C\n",
            "D\n",
            "A\n",
            "B\n",
            "C\n",
            "D\n",
            "A\n",
            "B\n",
            "C\n",
            "D\n",
            "A\n",
            "B\n",
            "C\n",
            "D\n",
            "A\n",
            "B\n",
            "C\n",
            "D\n",
            "A\n",
            "B\n",
            "C\n",
            "D\n",
            "A\n",
            "B\n",
            "C\n",
            "D\n",
            "A\n",
            "B\n",
            "C\n",
            "D\n",
            "A\n",
            "B\n",
            "C\n",
            "D\n",
            "A\n",
            "B\n",
            "C\n",
            "D\n",
            "A\n",
            "B\n",
            "C\n",
            "D\n",
            "A\n",
            "B\n",
            "C\n",
            "D\n",
            "A\n",
            "B\n",
            "C\n",
            "D\n",
            "A\n",
            "B\n",
            "C\n",
            "D\n",
            "A\n",
            "B\n",
            "C\n",
            "D\n",
            "A\n",
            "B\n",
            "C\n",
            "D\n",
            "A\n",
            "B\n",
            "C\n",
            "D\n",
            "A\n",
            "B\n",
            "C\n",
            "D\n",
            "A\n",
            "B\n",
            "C\n",
            "D\n",
            "A\n",
            "B\n",
            "C\n",
            "D\n",
            "A\n",
            "B\n",
            "C\n",
            "D\n",
            "A\n",
            "B\n",
            "C\n",
            "D\n",
            "A\n",
            "B\n",
            "C\n",
            "D\n",
            "A\n",
            "B\n",
            "C\n",
            "D\n",
            "A\n",
            "B\n",
            "C\n",
            "D\n",
            "A\n",
            "B\n",
            "C\n",
            "D\n",
            "A\n",
            "B\n",
            "C\n",
            "D\n",
            "A\n",
            "B\n",
            "C\n",
            "D\n",
            "A\n",
            "B\n",
            "C\n",
            "D\n",
            "A\n",
            "B\n",
            "C\n",
            "D\n",
            "A\n",
            "B\n",
            "C\n",
            "D\n",
            "A\n",
            "B\n",
            "C\n",
            "D\n",
            "A\n",
            "B\n",
            "C\n",
            "D\n",
            "A\n",
            "B\n",
            "C\n",
            "D\n",
            "A\n",
            "B\n",
            "C\n",
            "D\n",
            "A\n",
            "B\n",
            "C\n",
            "D\n",
            "A\n",
            "B\n",
            "C\n",
            "D\n",
            "A\n",
            "B\n",
            "C\n",
            "D\n",
            "A\n",
            "B\n",
            "C\n",
            "D\n",
            "A\n",
            "B\n",
            "C\n",
            "D\n",
            "A\n",
            "B\n",
            "C\n",
            "D\n",
            "A\n",
            "B\n",
            "C\n",
            "D\n",
            "A\n",
            "B\n",
            "C\n",
            "D\n",
            "A\n",
            "B\n",
            "C\n",
            "D\n",
            "A\n",
            "B\n",
            "C\n",
            "D\n",
            "A\n",
            "B\n",
            "C\n",
            "D\n",
            "A\n",
            "B\n",
            "C\n",
            "D\n",
            "A\n",
            "B\n",
            "C\n",
            "D\n",
            "A\n",
            "B\n",
            "C\n",
            "D\n",
            "A\n",
            "B\n",
            "C\n",
            "D\n",
            "A\n",
            "B\n",
            "C\n",
            "D\n",
            "A\n",
            "B\n",
            "C\n",
            "D\n",
            "A\n",
            "B\n",
            "C\n",
            "D\n",
            "A\n",
            "B\n",
            "C\n",
            "D\n",
            "A\n",
            "B\n",
            "C\n",
            "D\n",
            "A\n",
            "B\n",
            "C\n",
            "D\n",
            "A\n",
            "B\n",
            "C\n",
            "D\n",
            "A\n",
            "B\n",
            "C\n",
            "D\n",
            "A\n",
            "B\n",
            "C\n",
            "D\n",
            "A\n",
            "B\n",
            "C\n",
            "D\n",
            "A\n",
            "B\n",
            "C\n",
            "D\n",
            "A\n",
            "B\n",
            "C\n",
            "D\n",
            "A\n",
            "B\n",
            "C\n",
            "D\n",
            "A\n",
            "B\n",
            "C\n",
            "D\n",
            "A\n",
            "B\n",
            "C\n",
            "D\n",
            "A\n",
            "B\n",
            "C\n",
            "D\n",
            "A\n",
            "B\n",
            "C\n",
            "D\n",
            "A\n",
            "B\n",
            "C\n",
            "D\n",
            "A\n",
            "B\n",
            "C\n",
            "D\n",
            "A\n",
            "B\n",
            "C\n",
            "D\n",
            "A\n",
            "B\n",
            "C\n",
            "D\n",
            "A\n",
            "B\n",
            "C\n",
            "D\n",
            "A\n",
            "B\n",
            "C\n",
            "D\n",
            "A\n",
            "B\n",
            "C\n",
            "D\n",
            "A\n",
            "B\n",
            "C\n",
            "D\n",
            "A\n",
            "B\n",
            "C\n",
            "D\n",
            "A\n",
            "B\n",
            "C\n",
            "D\n",
            "A\n",
            "B\n",
            "C\n",
            "D\n",
            "A\n",
            "B\n",
            "C\n",
            "D\n",
            "A\n",
            "B\n",
            "C\n",
            "D\n",
            "A\n",
            "B\n",
            "C\n",
            "D\n",
            "A\n",
            "B\n",
            "C\n",
            "D\n",
            "A\n",
            "B\n",
            "C\n",
            "D\n",
            "A\n",
            "B\n",
            "C\n",
            "D\n",
            "A\n",
            "B\n",
            "C\n",
            "D\n",
            "A\n",
            "B\n",
            "C\n",
            "D\n",
            "A\n",
            "B\n",
            "C\n",
            "D\n",
            "A\n",
            "B\n",
            "C\n",
            "D\n",
            "A\n",
            "B\n",
            "C\n",
            "D\n",
            "A\n",
            "B\n",
            "C\n",
            "D\n",
            "A\n",
            "B\n",
            "C\n",
            "D\n",
            "A\n",
            "B\n",
            "C\n",
            "D\n",
            "A\n",
            "B\n",
            "C\n",
            "D\n",
            "A\n",
            "B\n",
            "C\n",
            "D\n",
            "A\n",
            "B\n",
            "C\n",
            "D\n",
            "A\n",
            "B\n",
            "C\n",
            "D\n",
            "A\n",
            "B\n",
            "C\n",
            "D\n",
            "A\n",
            "B\n",
            "C\n",
            "D\n",
            "A\n",
            "B\n",
            "C\n",
            "D\n",
            "A\n",
            "B\n",
            "C\n",
            "D\n",
            "A\n",
            "B\n",
            "C\n",
            "D\n",
            "A\n",
            "B\n",
            "C\n",
            "D\n",
            "A\n",
            "B\n",
            "C\n",
            "D\n",
            "A\n",
            "B\n",
            "C\n",
            "D\n",
            "A\n",
            "B\n",
            "C\n",
            "D\n",
            "A\n",
            "B\n",
            "C\n",
            "D\n",
            "A\n",
            "B\n",
            "C\n",
            "D\n",
            "A\n",
            "B\n",
            "C\n",
            "D\n",
            "A\n",
            "B\n",
            "C\n",
            "D\n",
            "A\n",
            "B\n",
            "C\n",
            "D\n",
            "A\n",
            "B\n",
            "C\n",
            "D\n",
            "A\n",
            "B\n",
            "C\n",
            "D\n",
            "A\n",
            "B\n",
            "C\n",
            "D\n",
            "A\n",
            "B\n",
            "C\n",
            "D\n",
            "A\n",
            "B\n",
            "C\n",
            "D\n",
            "A\n",
            "B\n",
            "C\n",
            "D\n",
            "A\n",
            "B\n",
            "C\n",
            "D\n",
            "A\n",
            "B\n",
            "C\n",
            "D\n",
            "A\n",
            "B\n",
            "C\n",
            "D\n",
            "A\n",
            "B\n",
            "C\n",
            "D\n",
            "A\n",
            "B\n",
            "C\n",
            "D\n",
            "A\n",
            "B\n",
            "C\n",
            "D\n",
            "A\n",
            "B\n",
            "C\n",
            "D\n",
            "A\n",
            "B\n",
            "C\n",
            "D\n",
            "A\n",
            "B\n",
            "C\n",
            "D\n",
            "A\n",
            "B\n",
            "C\n",
            "D\n",
            "A\n",
            "B\n",
            "C\n",
            "D\n",
            "A\n",
            "B\n",
            "C\n",
            "D\n",
            "A\n",
            "B\n",
            "C\n",
            "D\n",
            "A\n",
            "B\n",
            "C\n",
            "D\n",
            "A\n",
            "B\n",
            "C\n",
            "D\n",
            "A\n",
            "B\n",
            "C\n",
            "D\n",
            "A\n",
            "B\n",
            "C\n",
            "D\n",
            "A\n",
            "B\n",
            "C\n",
            "D\n",
            "A\n",
            "B\n",
            "C\n",
            "D\n",
            "A\n",
            "B\n",
            "C\n",
            "D\n",
            "A\n",
            "B\n",
            "C\n",
            "D\n",
            "A\n",
            "B\n",
            "C\n",
            "D\n",
            "A\n",
            "B\n",
            "C\n",
            "D\n",
            "A\n",
            "B\n",
            "C\n",
            "D\n",
            "A\n",
            "B\n",
            "C\n",
            "D\n",
            "A\n",
            "B\n",
            "C\n",
            "D\n",
            "A\n",
            "B\n",
            "C\n",
            "D\n",
            "A\n",
            "B\n",
            "C\n",
            "D\n",
            "A\n",
            "B\n",
            "C\n",
            "D\n",
            "A\n",
            "B\n",
            "C\n",
            "D\n",
            "A\n",
            "B\n",
            "C\n",
            "D\n",
            "A\n",
            "B\n",
            "C\n",
            "D\n",
            "A\n",
            "B\n",
            "C\n",
            "D\n",
            "A\n",
            "B\n",
            "C\n",
            "D\n",
            "A\n",
            "B\n",
            "C\n",
            "D\n",
            "A\n",
            "B\n",
            "C\n",
            "D\n",
            "A\n",
            "B\n",
            "C\n",
            "D\n",
            "A\n",
            "B\n",
            "C\n",
            "D\n",
            "A\n",
            "B\n",
            "C\n",
            "D\n",
            "A\n",
            "B\n",
            "C\n",
            "D\n",
            "A\n",
            "B\n",
            "C\n",
            "D\n",
            "A\n",
            "B\n",
            "C\n",
            "D\n",
            "A\n",
            "B\n",
            "C\n",
            "D\n",
            "A\n",
            "B\n",
            "C\n",
            "D\n",
            "A\n",
            "B\n",
            "C\n",
            "D\n",
            "A\n",
            "B\n",
            "C\n",
            "D\n",
            "A\n",
            "B\n",
            "C\n",
            "D\n",
            "A\n",
            "B\n",
            "C\n",
            "D\n",
            "A\n",
            "B\n",
            "C\n",
            "D\n",
            "A\n",
            "B\n",
            "C\n",
            "D\n",
            "A\n",
            "B\n",
            "C\n",
            "D\n",
            "A\n",
            "B\n",
            "C\n",
            "D\n",
            "A\n",
            "B\n",
            "C\n",
            "D\n",
            "A\n",
            "B\n",
            "C\n",
            "D\n",
            "A\n",
            "B\n",
            "C\n",
            "D\n",
            "A\n",
            "B\n",
            "C\n",
            "D\n",
            "A\n",
            "B\n",
            "C\n",
            "D\n",
            "A\n",
            "B\n",
            "C\n",
            "D\n",
            "A\n",
            "B\n",
            "C\n",
            "D\n",
            "A\n",
            "B\n",
            "C\n",
            "D\n",
            "A\n",
            "B\n",
            "C\n",
            "D\n",
            "A\n",
            "B\n",
            "C\n",
            "D\n",
            "A\n",
            "B\n",
            "C\n",
            "D\n",
            "A\n",
            "B\n",
            "C\n",
            "D\n",
            "A\n",
            "B\n",
            "C\n",
            "D\n",
            "A\n",
            "B\n",
            "C\n",
            "D\n",
            "A\n",
            "B\n",
            "C\n",
            "D\n",
            "A\n",
            "B\n",
            "C\n",
            "D\n",
            "A\n",
            "B\n",
            "C\n",
            "D\n",
            "A\n",
            "B\n",
            "C\n",
            "D\n",
            "A\n",
            "B\n",
            "C\n",
            "D\n",
            "A\n",
            "B\n",
            "C\n",
            "D\n",
            "A\n",
            "B\n",
            "C\n",
            "D\n",
            "A\n",
            "B\n",
            "C\n",
            "D\n",
            "A\n",
            "B\n",
            "C\n",
            "D\n",
            "A\n",
            "B\n",
            "C\n",
            "D\n",
            "A\n",
            "B\n",
            "C\n",
            "D\n",
            "A\n",
            "B\n",
            "C\n",
            "D\n",
            "A\n",
            "B\n",
            "C\n",
            "D\n",
            "A\n",
            "B\n",
            "C\n",
            "D\n",
            "A\n",
            "B\n",
            "C\n",
            "D\n",
            "A\n",
            "B\n",
            "C\n",
            "D\n",
            "A\n",
            "B\n",
            "C\n",
            "D\n",
            "A\n",
            "B\n",
            "C\n",
            "D\n",
            "A\n",
            "B\n",
            "C\n",
            "D\n",
            "A\n",
            "B\n",
            "C\n",
            "D\n",
            "A\n",
            "B\n",
            "C\n",
            "D\n",
            "A\n",
            "B\n",
            "C\n",
            "D\n",
            "A\n",
            "B\n",
            "C\n",
            "D\n",
            "A\n",
            "B\n",
            "C\n",
            "D\n",
            "A\n",
            "B\n",
            "C\n",
            "D\n",
            "A\n",
            "B\n",
            "C\n",
            "D\n",
            "A\n",
            "B\n",
            "C\n",
            "D\n",
            "A\n",
            "B\n",
            "C\n",
            "D\n",
            "A\n",
            "B\n",
            "C\n",
            "D\n",
            "A\n",
            "B\n",
            "C\n",
            "D\n",
            "A\n",
            "B\n",
            "C\n",
            "D\n",
            "A\n",
            "B\n",
            "C\n",
            "D\n",
            "A\n",
            "B\n",
            "C\n",
            "D\n",
            "A\n",
            "B\n",
            "C\n",
            "D\n",
            "A\n",
            "B\n",
            "C\n",
            "D\n",
            "A\n",
            "B\n",
            "C\n",
            "D\n",
            "A\n",
            "B\n",
            "C\n",
            "D\n",
            "A\n",
            "B\n",
            "C\n",
            "D\n",
            "A\n",
            "B\n",
            "C\n",
            "D\n",
            "A\n",
            "B\n",
            "C\n",
            "D\n",
            "A\n",
            "B\n",
            "C\n",
            "D\n",
            "A\n",
            "B\n",
            "C\n",
            "D\n",
            "A\n",
            "B\n",
            "C\n",
            "D\n",
            "A\n",
            "B\n",
            "C\n",
            "D\n",
            "A\n",
            "B\n",
            "C\n",
            "D\n",
            "A\n",
            "B\n",
            "C\n",
            "D\n",
            "A\n",
            "B\n",
            "C\n",
            "D\n",
            "A\n",
            "B\n",
            "C\n",
            "D\n",
            "A\n",
            "B\n",
            "C\n",
            "D\n",
            "A\n",
            "B\n",
            "C\n",
            "D\n",
            "A\n",
            "B\n",
            "C\n",
            "D\n",
            "A\n",
            "B\n",
            "C\n",
            "D\n",
            "A\n",
            "B\n",
            "C\n",
            "D\n",
            "A\n",
            "B\n",
            "C\n",
            "D\n",
            "A\n",
            "B\n",
            "C\n",
            "D\n",
            "A\n",
            "B\n",
            "C\n",
            "D\n",
            "A\n",
            "B\n",
            "C\n",
            "D\n",
            "A\n",
            "B\n",
            "C\n",
            "D\n",
            "A\n",
            "B\n",
            "C\n",
            "D\n",
            "A\n",
            "B\n",
            "C\n",
            "D\n",
            "A\n",
            "B\n",
            "C\n",
            "D\n",
            "A\n",
            "B\n",
            "C\n",
            "D\n",
            "A\n",
            "B\n",
            "C\n",
            "D\n",
            "A\n",
            "B\n",
            "C\n",
            "D\n",
            "A\n",
            "B\n",
            "C\n",
            "D\n",
            "A\n",
            "B\n",
            "C\n",
            "D\n",
            "A\n",
            "B\n",
            "C\n",
            "D\n",
            "A\n",
            "B\n",
            "C\n",
            "D\n",
            "A\n",
            "B\n",
            "C\n",
            "D\n",
            "A\n",
            "B\n",
            "C\n",
            "D\n",
            "A\n",
            "B\n",
            "C\n",
            "D\n",
            "A\n",
            "B\n",
            "C\n",
            "D\n",
            "A\n",
            "B\n",
            "C\n",
            "D\n",
            "A\n",
            "B\n",
            "C\n",
            "D\n",
            "A\n",
            "B\n",
            "C\n",
            "D\n",
            "A\n",
            "B\n",
            "C\n",
            "D\n",
            "A\n",
            "B\n",
            "C\n",
            "D\n",
            "A\n",
            "B\n",
            "C\n",
            "D\n",
            "A\n",
            "B\n",
            "C\n",
            "D\n",
            "A\n",
            "B\n",
            "C\n",
            "D\n",
            "A\n",
            "B\n",
            "C\n",
            "D\n",
            "A\n",
            "B\n",
            "C\n",
            "D\n",
            "A\n",
            "B\n",
            "C\n",
            "D\n",
            "A\n",
            "B\n",
            "C\n",
            "D\n",
            "A\n",
            "B\n",
            "C\n",
            "D\n",
            "A\n",
            "B\n",
            "C\n",
            "D\n",
            "A\n",
            "B\n",
            "C\n",
            "D\n",
            "A\n",
            "B\n",
            "C\n",
            "D\n",
            "A\n",
            "B\n",
            "C\n",
            "D\n",
            "A\n",
            "B\n",
            "C\n",
            "D\n",
            "A\n",
            "B\n",
            "C\n",
            "D\n",
            "A\n",
            "B\n",
            "C\n",
            "D\n",
            "A\n",
            "B\n",
            "C\n",
            "D\n",
            "A\n",
            "B\n",
            "C\n",
            "D\n",
            "A\n",
            "B\n",
            "C\n",
            "D\n",
            "A\n",
            "B\n",
            "C\n",
            "D\n",
            "A\n",
            "B\n",
            "C\n",
            "D\n",
            "A\n",
            "B\n",
            "C\n",
            "D\n",
            "A\n",
            "B\n",
            "C\n",
            "D\n",
            "A\n",
            "B\n",
            "C\n",
            "D\n",
            "A\n",
            "B\n",
            "C\n",
            "D\n",
            "A\n",
            "B\n",
            "C\n",
            "D\n",
            "A\n",
            "B\n",
            "C\n",
            "D\n",
            "A\n",
            "B\n",
            "C\n",
            "D\n",
            "A\n",
            "B\n",
            "C\n",
            "D\n",
            "A\n",
            "B\n",
            "C\n",
            "D\n",
            "A\n",
            "B\n",
            "C\n",
            "D\n",
            "A\n",
            "B\n",
            "C\n",
            "D\n",
            "A\n",
            "B\n",
            "C\n",
            "D\n",
            "A\n",
            "B\n",
            "C\n",
            "D\n",
            "A\n",
            "B\n",
            "C\n",
            "D\n",
            "A\n",
            "B\n",
            "C\n",
            "D\n",
            "A\n",
            "B\n",
            "C\n",
            "D\n",
            "A\n",
            "B\n",
            "C\n",
            "D\n",
            "A\n",
            "B\n",
            "C\n",
            "D\n",
            "A\n",
            "B\n",
            "C\n",
            "D\n",
            "A\n",
            "B\n",
            "C\n",
            "D\n",
            "A\n",
            "B\n",
            "C\n",
            "D\n",
            "A\n",
            "B\n",
            "C\n",
            "D\n",
            "A\n",
            "B\n",
            "C\n",
            "D\n",
            "A\n",
            "B\n",
            "C\n",
            "D\n",
            "A\n",
            "B\n",
            "C\n",
            "D\n",
            "A\n",
            "B\n",
            "C\n",
            "D\n",
            "A\n",
            "B\n",
            "C\n",
            "D\n",
            "A\n",
            "B\n",
            "C\n",
            "D\n",
            "A\n",
            "B\n",
            "C\n",
            "D\n",
            "A\n",
            "B\n",
            "C\n",
            "D\n",
            "A\n",
            "B\n",
            "C\n",
            "D\n",
            "A\n",
            "B\n",
            "C\n",
            "D\n",
            "A\n",
            "B\n",
            "C\n",
            "D\n",
            "A\n",
            "B\n",
            "C\n",
            "D\n",
            "A\n",
            "B\n",
            "C\n",
            "D\n",
            "A\n",
            "B\n",
            "C\n",
            "D\n",
            "A\n",
            "B\n",
            "C\n",
            "D\n",
            "A\n",
            "B\n",
            "C\n",
            "D\n",
            "A\n",
            "B\n",
            "C\n",
            "D\n",
            "A\n",
            "B\n",
            "C\n",
            "D\n",
            "A\n",
            "B\n",
            "C\n",
            "D\n",
            "A\n",
            "B\n",
            "C\n",
            "D\n",
            "A\n",
            "B\n",
            "C\n",
            "D\n",
            "A\n",
            "B\n",
            "C\n",
            "D\n",
            "A\n",
            "B\n",
            "C\n",
            "D\n",
            "A\n",
            "B\n",
            "C\n",
            "D\n",
            "A\n",
            "B\n",
            "C\n",
            "D\n",
            "A\n",
            "B\n",
            "C\n",
            "D\n",
            "A\n",
            "B\n",
            "C\n",
            "D\n",
            "A\n",
            "B\n",
            "C\n",
            "D\n",
            "A\n",
            "B\n",
            "C\n",
            "D\n",
            "A\n",
            "B\n",
            "C\n",
            "D\n",
            "A\n",
            "B\n",
            "C\n",
            "D\n",
            "A\n",
            "B\n",
            "C\n",
            "D\n",
            "A\n",
            "B\n",
            "C\n",
            "D\n",
            "A\n",
            "B\n",
            "C\n",
            "D\n",
            "A\n",
            "B\n",
            "C\n",
            "D\n",
            "A\n",
            "B\n",
            "C\n",
            "D\n",
            "A\n",
            "B\n",
            "C\n",
            "D\n",
            "A\n",
            "B\n",
            "C\n",
            "D\n",
            "A\n",
            "B\n",
            "C\n",
            "D\n",
            "A\n",
            "B\n",
            "C\n",
            "D\n",
            "A\n",
            "B\n",
            "C\n",
            "D\n",
            "A\n",
            "B\n",
            "C\n",
            "D\n",
            "A\n",
            "B\n",
            "C\n",
            "D\n",
            "A\n",
            "B\n",
            "C\n",
            "D\n",
            "A\n",
            "B\n",
            "C\n",
            "D\n",
            "A\n",
            "B\n",
            "C\n",
            "D\n",
            "A\n",
            "B\n",
            "C\n",
            "D\n",
            "A\n",
            "B\n",
            "C\n",
            "D\n",
            "A\n",
            "B\n",
            "C\n",
            "D\n",
            "A\n",
            "B\n",
            "C\n",
            "D\n",
            "A\n",
            "B\n",
            "C\n",
            "D\n",
            "A\n",
            "B\n",
            "C\n",
            "D\n",
            "A\n",
            "B\n",
            "C\n",
            "D\n",
            "A\n",
            "B\n",
            "C\n",
            "D\n",
            "A\n",
            "B\n",
            "C\n",
            "D\n",
            "A\n",
            "B\n",
            "C\n",
            "D\n",
            "A\n",
            "B\n",
            "C\n",
            "D\n",
            "A\n",
            "B\n",
            "C\n",
            "D\n",
            "A\n",
            "B\n",
            "C\n",
            "D\n",
            "A\n",
            "B\n",
            "C\n",
            "D\n",
            "A\n",
            "B\n",
            "C\n",
            "D\n",
            "A\n",
            "B\n",
            "C\n",
            "D\n",
            "A\n",
            "B\n",
            "C\n",
            "D\n",
            "A\n",
            "B\n",
            "C\n",
            "D\n",
            "A\n",
            "B\n",
            "C\n",
            "D\n",
            "A\n",
            "B\n",
            "C\n",
            "D\n",
            "A\n",
            "B\n",
            "C\n",
            "D\n",
            "A\n",
            "B\n",
            "C\n",
            "D\n",
            "A\n",
            "B\n",
            "C\n",
            "D\n",
            "A\n",
            "B\n",
            "C\n",
            "D\n",
            "A\n",
            "B\n",
            "C\n",
            "D\n",
            "A\n",
            "B\n",
            "C\n",
            "D\n",
            "A\n",
            "B\n",
            "C\n",
            "D\n",
            "A\n",
            "B\n",
            "C\n",
            "D\n",
            "A\n",
            "B\n",
            "C\n",
            "D\n",
            "A\n",
            "B\n",
            "C\n",
            "D\n",
            "A\n",
            "B\n",
            "C\n",
            "D\n",
            "A\n",
            "B\n",
            "C\n",
            "D\n",
            "A\n",
            "B\n",
            "C\n",
            "D\n",
            "A\n",
            "B\n",
            "C\n",
            "D\n",
            "A\n",
            "B\n",
            "C\n",
            "D\n",
            "A\n",
            "B\n",
            "C\n",
            "D\n",
            "A\n",
            "B\n",
            "C\n",
            "D\n",
            "A\n",
            "B\n",
            "C\n",
            "D\n",
            "A\n",
            "B\n",
            "C\n",
            "D\n",
            "A\n",
            "B\n",
            "C\n",
            "D\n",
            "A\n",
            "B\n",
            "C\n",
            "D\n",
            "A\n",
            "B\n",
            "C\n",
            "D\n",
            "A\n",
            "B\n",
            "C\n",
            "D\n",
            "A\n",
            "B\n",
            "C\n",
            "D\n",
            "A\n",
            "B\n",
            "C\n",
            "D\n",
            "A\n",
            "B\n",
            "C\n",
            "D\n",
            "A\n",
            "B\n",
            "C\n",
            "D\n",
            "A\n",
            "B\n",
            "C\n",
            "D\n",
            "A\n",
            "B\n",
            "C\n",
            "D\n",
            "A\n",
            "B\n",
            "C\n",
            "D\n",
            "A\n",
            "B\n",
            "C\n",
            "D\n",
            "A\n",
            "B\n",
            "C\n",
            "D\n",
            "A\n",
            "B\n",
            "C\n",
            "D\n",
            "A\n",
            "B\n",
            "C\n",
            "D\n",
            "A\n",
            "B\n",
            "C\n",
            "D\n",
            "A\n",
            "B\n",
            "C\n",
            "D\n",
            "A\n",
            "B\n",
            "C\n",
            "D\n",
            "A\n",
            "B\n",
            "C\n",
            "D\n",
            "A\n",
            "B\n",
            "C\n",
            "D\n",
            "A\n",
            "B\n",
            "C\n",
            "D\n",
            "A\n",
            "B\n",
            "C\n",
            "D\n",
            "A\n",
            "B\n",
            "C\n",
            "D\n",
            "A\n",
            "B\n",
            "C\n",
            "D\n",
            "A\n",
            "B\n",
            "C\n",
            "D\n",
            "A\n",
            "B\n",
            "C\n",
            "D\n",
            "A\n",
            "B\n",
            "C\n",
            "D\n",
            "A\n",
            "B\n",
            "C\n",
            "D\n",
            "A\n",
            "B\n",
            "C\n",
            "D\n",
            "A\n",
            "B\n",
            "C\n",
            "D\n",
            "A\n",
            "B\n",
            "C\n",
            "D\n",
            "A\n",
            "B\n",
            "C\n",
            "D\n",
            "A\n",
            "B\n",
            "C\n",
            "D\n",
            "A\n",
            "B\n",
            "C\n",
            "D\n",
            "A\n",
            "B\n",
            "C\n",
            "D\n",
            "A\n",
            "B\n",
            "C\n",
            "D\n",
            "A\n",
            "B\n",
            "C\n",
            "D\n",
            "A\n",
            "B\n",
            "C\n",
            "D\n",
            "A\n",
            "B\n",
            "C\n",
            "D\n",
            "A\n",
            "B\n",
            "C\n",
            "D\n",
            "A\n",
            "B\n",
            "C\n",
            "D\n",
            "A\n",
            "B\n",
            "C\n",
            "D\n",
            "A\n",
            "B\n",
            "C\n",
            "D\n",
            "A\n",
            "B\n",
            "C\n",
            "D\n",
            "A\n",
            "B\n",
            "C\n",
            "D\n",
            "A\n",
            "B\n",
            "C\n",
            "D\n",
            "A\n",
            "B\n",
            "C\n",
            "D\n",
            "A\n",
            "B\n",
            "C\n",
            "D\n",
            "A\n",
            "B\n",
            "C\n",
            "D\n",
            "A\n",
            "B\n",
            "C\n",
            "D\n",
            "A\n",
            "B\n",
            "C\n",
            "D\n",
            "A\n",
            "B\n",
            "C\n",
            "D\n",
            "A\n",
            "B\n",
            "C\n",
            "D\n",
            "A\n",
            "B\n",
            "C\n",
            "D\n",
            "A\n",
            "B\n",
            "C\n",
            "D\n",
            "A\n",
            "B\n",
            "C\n",
            "D\n",
            "A\n",
            "B\n",
            "C\n",
            "D\n",
            "A\n",
            "B\n",
            "C\n",
            "D\n",
            "A\n",
            "B\n",
            "C\n",
            "D\n",
            "A\n",
            "B\n",
            "C\n",
            "D\n",
            "A\n",
            "B\n",
            "C\n",
            "D\n",
            "A\n",
            "B\n",
            "C\n",
            "D\n",
            "A\n",
            "B\n",
            "C\n",
            "D\n",
            "A\n",
            "B\n",
            "C\n",
            "D\n",
            "A\n",
            "B\n",
            "C\n",
            "D\n",
            "A\n",
            "B\n",
            "C\n",
            "D\n",
            "A\n",
            "B\n",
            "C\n",
            "D\n",
            "A\n",
            "B\n",
            "C\n",
            "D\n",
            "A\n",
            "B\n",
            "C\n",
            "D\n",
            "A\n",
            "B\n",
            "C\n",
            "D\n",
            "A\n",
            "B\n",
            "C\n",
            "D\n",
            "A\n",
            "B\n",
            "C\n",
            "D\n",
            "A\n",
            "B\n",
            "C\n",
            "D\n",
            "A\n",
            "B\n",
            "C\n",
            "D\n",
            "A\n",
            "B\n",
            "C\n",
            "D\n",
            "A\n",
            "B\n",
            "C\n",
            "D\n",
            "A\n",
            "B\n",
            "C\n",
            "D\n",
            "A\n",
            "B\n",
            "C\n",
            "D\n",
            "A\n",
            "B\n",
            "C\n",
            "D\n",
            "A\n",
            "B\n",
            "C\n",
            "D\n",
            "A\n",
            "B\n",
            "C\n",
            "D\n",
            "A\n",
            "B\n",
            "C\n",
            "D\n",
            "A\n",
            "B\n",
            "C\n",
            "D\n",
            "A\n",
            "B\n",
            "C\n",
            "D\n",
            "A\n",
            "B\n",
            "C\n",
            "D\n",
            "A\n",
            "B\n",
            "C\n",
            "D\n",
            "A\n",
            "B\n",
            "C\n",
            "D\n",
            "A\n",
            "B\n",
            "C\n",
            "D\n",
            "A\n",
            "B\n",
            "C\n",
            "D\n",
            "A\n",
            "B\n",
            "C\n",
            "D\n",
            "A\n",
            "B\n",
            "C\n",
            "D\n",
            "A\n",
            "B\n",
            "C\n",
            "D\n",
            "A\n",
            "B\n",
            "C\n",
            "D\n",
            "A\n",
            "B\n",
            "C\n",
            "D\n",
            "A\n",
            "B\n",
            "C\n",
            "D\n",
            "A\n",
            "B\n",
            "C\n",
            "D\n",
            "A\n",
            "B\n",
            "C\n",
            "D\n",
            "A\n",
            "B\n",
            "C\n",
            "D\n",
            "A\n",
            "B\n",
            "C\n",
            "D\n",
            "A\n",
            "B\n",
            "C\n",
            "D\n",
            "A\n",
            "B\n",
            "C\n",
            "D\n",
            "A\n",
            "B\n",
            "C\n",
            "D\n",
            "A\n",
            "B\n",
            "C\n",
            "D\n",
            "A\n",
            "B\n",
            "C\n",
            "D\n",
            "A\n",
            "B\n",
            "C\n",
            "D\n",
            "A\n",
            "B\n",
            "C\n",
            "D\n",
            "A\n",
            "B\n",
            "C\n",
            "D\n",
            "A\n",
            "B\n",
            "C\n",
            "D\n",
            "A\n",
            "B\n",
            "C\n",
            "D\n",
            "A\n",
            "B\n",
            "C\n",
            "D\n",
            "A\n",
            "B\n",
            "C\n",
            "D\n",
            "A\n",
            "B\n",
            "C\n",
            "D\n",
            "A\n",
            "B\n",
            "C\n",
            "D\n",
            "A\n",
            "B\n",
            "C\n",
            "D\n",
            "A\n",
            "B\n",
            "C\n",
            "D\n",
            "A\n",
            "B\n",
            "C\n",
            "D\n",
            "A\n",
            "B\n",
            "C\n",
            "D\n",
            "A\n",
            "B\n",
            "C\n",
            "D\n",
            "A\n",
            "B\n",
            "C\n",
            "D\n",
            "A\n",
            "B\n",
            "C\n",
            "D\n",
            "A\n",
            "B\n",
            "C\n",
            "D\n",
            "A\n",
            "B\n",
            "C\n",
            "D\n",
            "A\n",
            "B\n",
            "C\n",
            "D\n",
            "A\n",
            "B\n",
            "C\n",
            "D\n",
            "A\n",
            "B\n",
            "C\n",
            "D\n",
            "A\n",
            "B\n",
            "C\n",
            "D\n",
            "A\n",
            "B\n",
            "C\n",
            "D\n",
            "A\n",
            "B\n",
            "C\n",
            "D\n",
            "A\n",
            "B\n",
            "C\n",
            "D\n",
            "A\n",
            "B\n",
            "C\n",
            "D\n",
            "A\n",
            "B\n",
            "C\n",
            "D\n",
            "A\n",
            "B\n",
            "C\n",
            "D\n",
            "A\n",
            "B\n",
            "C\n",
            "D\n",
            "A\n",
            "B\n",
            "C\n",
            "D\n",
            "A\n",
            "B\n",
            "C\n",
            "D\n",
            "A\n",
            "B\n",
            "C\n",
            "D\n",
            "A\n",
            "B\n",
            "C\n",
            "D\n",
            "A\n",
            "B\n",
            "C\n",
            "D\n",
            "A\n",
            "B\n",
            "C\n",
            "D\n",
            "A\n",
            "B\n",
            "C\n",
            "D\n",
            "A\n",
            "B\n",
            "C\n",
            "D\n",
            "A\n",
            "B\n",
            "C\n",
            "D\n",
            "A\n",
            "B\n",
            "C\n",
            "D\n",
            "A\n",
            "B\n",
            "C\n",
            "D\n",
            "A\n",
            "B\n",
            "C\n",
            "D\n",
            "A\n",
            "B\n",
            "C\n",
            "D\n",
            "A\n",
            "B\n",
            "C\n",
            "D\n",
            "A\n",
            "B\n",
            "C\n",
            "D\n",
            "A\n",
            "B\n",
            "C\n",
            "D\n",
            "A\n",
            "B\n",
            "C\n",
            "D\n",
            "A\n",
            "B\n",
            "C\n",
            "D\n",
            "A\n",
            "B\n",
            "C\n",
            "D\n",
            "A\n",
            "B\n",
            "C\n",
            "D\n",
            "A\n",
            "B\n",
            "C\n",
            "D\n",
            "A\n",
            "B\n",
            "C\n",
            "D\n",
            "A\n",
            "B\n",
            "C\n",
            "D\n",
            "A\n",
            "B\n",
            "C\n",
            "D\n",
            "A\n",
            "B\n",
            "C\n",
            "D\n",
            "A\n",
            "B\n",
            "C\n",
            "D\n",
            "A\n",
            "B\n",
            "C\n",
            "D\n",
            "A\n",
            "B\n",
            "C\n",
            "D\n",
            "A\n",
            "B\n",
            "C\n",
            "D\n",
            "A\n",
            "B\n",
            "C\n",
            "D\n",
            "A\n",
            "B\n",
            "C\n",
            "D\n",
            "A\n",
            "B\n",
            "C\n",
            "D\n",
            "A\n",
            "B\n",
            "C\n",
            "D\n",
            "A\n",
            "B\n",
            "C\n",
            "D\n",
            "A\n",
            "B\n",
            "C\n",
            "D\n",
            "A\n",
            "B\n",
            "C\n",
            "D\n",
            "A\n",
            "B\n",
            "C\n",
            "D\n",
            "A\n",
            "B\n",
            "C\n",
            "D\n",
            "A\n",
            "B\n",
            "C\n",
            "D\n",
            "A\n",
            "B\n",
            "C\n",
            "D\n",
            "A\n",
            "B\n",
            "C\n",
            "D\n",
            "A\n",
            "B\n",
            "C\n",
            "D\n",
            "A\n",
            "B\n",
            "C\n",
            "D\n",
            "A\n",
            "B\n",
            "C\n",
            "D\n",
            "A\n",
            "B\n",
            "C\n",
            "D\n",
            "A\n",
            "B\n",
            "C\n",
            "D\n",
            "A\n",
            "B\n",
            "C\n",
            "D\n",
            "A\n",
            "B\n",
            "C\n",
            "D\n",
            "A\n",
            "B\n",
            "C\n",
            "D\n",
            "A\n",
            "B\n",
            "C\n",
            "D\n",
            "A\n",
            "B\n",
            "C\n",
            "D\n",
            "A\n",
            "B\n",
            "C\n",
            "D\n",
            "A\n",
            "B\n",
            "C\n",
            "D\n",
            "A\n",
            "B\n",
            "C\n",
            "D\n",
            "A\n"
          ],
          "name": "stdout"
        },
        {
          "output_type": "error",
          "ename": "KeyboardInterrupt",
          "evalue": "ignored",
          "traceback": [
            "\u001b[0;31m---------------------------------------------------------------------------\u001b[0m",
            "\u001b[0;31mKeyboardInterrupt\u001b[0m                         Traceback (most recent call last)",
            "\u001b[0;32m<ipython-input-21-29bfaf4187a8>\u001b[0m in \u001b[0;36m<module>\u001b[0;34m()\u001b[0m\n\u001b[1;32m      1\u001b[0m \u001b[0;32mfor\u001b[0m \u001b[0mi\u001b[0m \u001b[0;32min\u001b[0m \u001b[0mcycler\u001b[0m\u001b[0;34m:\u001b[0m\u001b[0;34m\u001b[0m\u001b[0;34m\u001b[0m\u001b[0m\n\u001b[0;32m----> 2\u001b[0;31m   \u001b[0mprint\u001b[0m\u001b[0;34m(\u001b[0m\u001b[0mi\u001b[0m\u001b[0;34m)\u001b[0m\u001b[0;34m\u001b[0m\u001b[0;34m\u001b[0m\u001b[0m\n\u001b[0m",
            "\u001b[0;32m/usr/local/lib/python3.6/dist-packages/ipykernel/iostream.py\u001b[0m in \u001b[0;36mwrite\u001b[0;34m(self, string)\u001b[0m\n\u001b[1;32m    398\u001b[0m             \u001b[0mis_child\u001b[0m \u001b[0;34m=\u001b[0m \u001b[0;34m(\u001b[0m\u001b[0;32mnot\u001b[0m \u001b[0mself\u001b[0m\u001b[0;34m.\u001b[0m\u001b[0m_is_master_process\u001b[0m\u001b[0;34m(\u001b[0m\u001b[0;34m)\u001b[0m\u001b[0;34m)\u001b[0m\u001b[0;34m\u001b[0m\u001b[0;34m\u001b[0m\u001b[0m\n\u001b[1;32m    399\u001b[0m             \u001b[0;31m# only touch the buffer in the IO thread to avoid races\u001b[0m\u001b[0;34m\u001b[0m\u001b[0;34m\u001b[0m\u001b[0;34m\u001b[0m\u001b[0m\n\u001b[0;32m--> 400\u001b[0;31m             \u001b[0mself\u001b[0m\u001b[0;34m.\u001b[0m\u001b[0mpub_thread\u001b[0m\u001b[0;34m.\u001b[0m\u001b[0mschedule\u001b[0m\u001b[0;34m(\u001b[0m\u001b[0;32mlambda\u001b[0m \u001b[0;34m:\u001b[0m \u001b[0mself\u001b[0m\u001b[0;34m.\u001b[0m\u001b[0m_buffer\u001b[0m\u001b[0;34m.\u001b[0m\u001b[0mwrite\u001b[0m\u001b[0;34m(\u001b[0m\u001b[0mstring\u001b[0m\u001b[0;34m)\u001b[0m\u001b[0;34m)\u001b[0m\u001b[0;34m\u001b[0m\u001b[0;34m\u001b[0m\u001b[0m\n\u001b[0m\u001b[1;32m    401\u001b[0m             \u001b[0;32mif\u001b[0m \u001b[0mis_child\u001b[0m\u001b[0;34m:\u001b[0m\u001b[0;34m\u001b[0m\u001b[0;34m\u001b[0m\u001b[0m\n\u001b[1;32m    402\u001b[0m                 \u001b[0;31m# newlines imply flush in subprocesses\u001b[0m\u001b[0;34m\u001b[0m\u001b[0;34m\u001b[0m\u001b[0;34m\u001b[0m\u001b[0m\n",
            "\u001b[0;32m/usr/local/lib/python3.6/dist-packages/ipykernel/iostream.py\u001b[0m in \u001b[0;36mschedule\u001b[0;34m(self, f)\u001b[0m\n\u001b[1;32m    201\u001b[0m             \u001b[0mself\u001b[0m\u001b[0;34m.\u001b[0m\u001b[0m_events\u001b[0m\u001b[0;34m.\u001b[0m\u001b[0mappend\u001b[0m\u001b[0;34m(\u001b[0m\u001b[0mf\u001b[0m\u001b[0;34m)\u001b[0m\u001b[0;34m\u001b[0m\u001b[0;34m\u001b[0m\u001b[0m\n\u001b[1;32m    202\u001b[0m             \u001b[0;31m# wake event thread (message content is ignored)\u001b[0m\u001b[0;34m\u001b[0m\u001b[0;34m\u001b[0m\u001b[0;34m\u001b[0m\u001b[0m\n\u001b[0;32m--> 203\u001b[0;31m             \u001b[0mself\u001b[0m\u001b[0;34m.\u001b[0m\u001b[0m_event_pipe\u001b[0m\u001b[0;34m.\u001b[0m\u001b[0msend\u001b[0m\u001b[0;34m(\u001b[0m\u001b[0;34mb''\u001b[0m\u001b[0;34m)\u001b[0m\u001b[0;34m\u001b[0m\u001b[0;34m\u001b[0m\u001b[0m\n\u001b[0m\u001b[1;32m    204\u001b[0m         \u001b[0;32melse\u001b[0m\u001b[0;34m:\u001b[0m\u001b[0;34m\u001b[0m\u001b[0;34m\u001b[0m\u001b[0m\n\u001b[1;32m    205\u001b[0m             \u001b[0mf\u001b[0m\u001b[0;34m(\u001b[0m\u001b[0;34m)\u001b[0m\u001b[0;34m\u001b[0m\u001b[0;34m\u001b[0m\u001b[0m\n",
            "\u001b[0;32m/usr/local/lib/python3.6/dist-packages/zmq/sugar/socket.py\u001b[0m in \u001b[0;36msend\u001b[0;34m(self, data, flags, copy, track, routing_id, group)\u001b[0m\n\u001b[1;32m    414\u001b[0m                                  copy_threshold=self.copy_threshold)\n\u001b[1;32m    415\u001b[0m             \u001b[0mdata\u001b[0m\u001b[0;34m.\u001b[0m\u001b[0mgroup\u001b[0m \u001b[0;34m=\u001b[0m \u001b[0mgroup\u001b[0m\u001b[0;34m\u001b[0m\u001b[0;34m\u001b[0m\u001b[0m\n\u001b[0;32m--> 416\u001b[0;31m         \u001b[0;32mreturn\u001b[0m \u001b[0msuper\u001b[0m\u001b[0;34m(\u001b[0m\u001b[0mSocket\u001b[0m\u001b[0;34m,\u001b[0m \u001b[0mself\u001b[0m\u001b[0;34m)\u001b[0m\u001b[0;34m.\u001b[0m\u001b[0msend\u001b[0m\u001b[0;34m(\u001b[0m\u001b[0mdata\u001b[0m\u001b[0;34m,\u001b[0m \u001b[0mflags\u001b[0m\u001b[0;34m=\u001b[0m\u001b[0mflags\u001b[0m\u001b[0;34m,\u001b[0m \u001b[0mcopy\u001b[0m\u001b[0;34m=\u001b[0m\u001b[0mcopy\u001b[0m\u001b[0;34m,\u001b[0m \u001b[0mtrack\u001b[0m\u001b[0;34m=\u001b[0m\u001b[0mtrack\u001b[0m\u001b[0;34m)\u001b[0m\u001b[0;34m\u001b[0m\u001b[0;34m\u001b[0m\u001b[0m\n\u001b[0m\u001b[1;32m    417\u001b[0m \u001b[0;34m\u001b[0m\u001b[0m\n\u001b[1;32m    418\u001b[0m     \u001b[0;32mdef\u001b[0m \u001b[0msend_multipart\u001b[0m\u001b[0;34m(\u001b[0m\u001b[0mself\u001b[0m\u001b[0;34m,\u001b[0m \u001b[0mmsg_parts\u001b[0m\u001b[0;34m,\u001b[0m \u001b[0mflags\u001b[0m\u001b[0;34m=\u001b[0m\u001b[0;36m0\u001b[0m\u001b[0;34m,\u001b[0m \u001b[0mcopy\u001b[0m\u001b[0;34m=\u001b[0m\u001b[0;32mTrue\u001b[0m\u001b[0;34m,\u001b[0m \u001b[0mtrack\u001b[0m\u001b[0;34m=\u001b[0m\u001b[0;32mFalse\u001b[0m\u001b[0;34m,\u001b[0m \u001b[0;34m**\u001b[0m\u001b[0mkwargs\u001b[0m\u001b[0;34m)\u001b[0m\u001b[0;34m:\u001b[0m\u001b[0;34m\u001b[0m\u001b[0;34m\u001b[0m\u001b[0m\n",
            "\u001b[0;32mzmq/backend/cython/socket.pyx\u001b[0m in \u001b[0;36mzmq.backend.cython.socket.Socket.send\u001b[0;34m()\u001b[0m\n",
            "\u001b[0;32mzmq/backend/cython/socket.pyx\u001b[0m in \u001b[0;36mzmq.backend.cython.socket.Socket.send\u001b[0;34m()\u001b[0m\n",
            "\u001b[0;32mzmq/backend/cython/socket.pyx\u001b[0m in \u001b[0;36mzmq.backend.cython.socket._send_copy\u001b[0;34m()\u001b[0m\n",
            "\u001b[0;32m/usr/local/lib/python3.6/dist-packages/zmq/backend/cython/checkrc.pxd\u001b[0m in \u001b[0;36mzmq.backend.cython.checkrc._check_rc\u001b[0;34m()\u001b[0m\n",
            "\u001b[0;31mKeyboardInterrupt\u001b[0m: "
          ]
        }
      ]
    },
    {
      "cell_type": "markdown",
      "metadata": {
        "id": "NEYZpHZdVOBD"
      },
      "source": [
        "4. Repeat"
      ]
    },
    {
      "cell_type": "code",
      "metadata": {
        "id": "UD7LffZ2VSJk"
      },
      "source": [
        "repeater = itertools.repeat(10, 4)"
      ],
      "execution_count": 22,
      "outputs": []
    },
    {
      "cell_type": "code",
      "metadata": {
        "id": "9AfCeq_0Vk70",
        "outputId": "a07fc0d5-9d28-428e-8c98-7a984e7b2bbe",
        "colab": {
          "base_uri": "https://localhost:8080/",
          "height": 163
        }
      },
      "source": [
        "print(next(repeater))"
      ],
      "execution_count": 27,
      "outputs": [
        {
          "output_type": "error",
          "ename": "StopIteration",
          "evalue": "ignored",
          "traceback": [
            "\u001b[0;31m---------------------------------------------------------------------------\u001b[0m",
            "\u001b[0;31mStopIteration\u001b[0m                             Traceback (most recent call last)",
            "\u001b[0;32m<ipython-input-27-505fdd2c4b3d>\u001b[0m in \u001b[0;36m<module>\u001b[0;34m()\u001b[0m\n\u001b[0;32m----> 1\u001b[0;31m \u001b[0mprint\u001b[0m\u001b[0;34m(\u001b[0m\u001b[0mnext\u001b[0m\u001b[0;34m(\u001b[0m\u001b[0mrepeater\u001b[0m\u001b[0;34m)\u001b[0m\u001b[0;34m)\u001b[0m\u001b[0;34m\u001b[0m\u001b[0;34m\u001b[0m\u001b[0m\n\u001b[0m",
            "\u001b[0;31mStopIteration\u001b[0m: "
          ]
        }
      ]
    },
    {
      "cell_type": "code",
      "metadata": {
        "id": "fg5QledoTzaP",
        "outputId": "09f22df0-db8a-40fc-802a-5d1beeb8c38f",
        "colab": {
          "base_uri": "https://localhost:8080/"
        }
      },
      "source": [
        "sqr = map(pow, range(4), itertools.repeat(2,4))\n",
        "sqr"
      ],
      "execution_count": 28,
      "outputs": [
        {
          "output_type": "execute_result",
          "data": {
            "text/plain": [
              "<map at 0x7f1a19e2be10>"
            ]
          },
          "metadata": {
            "tags": []
          },
          "execution_count": 28
        }
      ]
    },
    {
      "cell_type": "code",
      "metadata": {
        "id": "DerjQRKrUwUz",
        "outputId": "5ff4646f-87f1-425f-b14f-5d215217f84d",
        "colab": {
          "base_uri": "https://localhost:8080/"
        }
      },
      "source": [
        "next(sqr)"
      ],
      "execution_count": 32,
      "outputs": [
        {
          "output_type": "execute_result",
          "data": {
            "text/plain": [
              "9"
            ]
          },
          "metadata": {
            "tags": []
          },
          "execution_count": 32
        }
      ]
    },
    {
      "cell_type": "code",
      "metadata": {
        "id": "AM3hZLwPU6KH"
      },
      "source": [
        "repeater2 = itertools.repeat(4,5)"
      ],
      "execution_count": 33,
      "outputs": []
    },
    {
      "cell_type": "code",
      "metadata": {
        "id": "rHayeUAznkkT",
        "outputId": "cc62629a-c3e6-4ec4-b903-fd78fa9037fd",
        "colab": {
          "base_uri": "https://localhost:8080/"
        }
      },
      "source": [
        "for i in repeater2:\n",
        "  print(i)"
      ],
      "execution_count": 34,
      "outputs": [
        {
          "output_type": "stream",
          "text": [
            "4\n",
            "4\n",
            "4\n",
            "4\n",
            "4\n"
          ],
          "name": "stdout"
        }
      ]
    },
    {
      "cell_type": "markdown",
      "metadata": {
        "id": "_e72rIr9EsUw"
      },
      "source": [
        "5. Accumulate"
      ]
    },
    {
      "cell_type": "markdown",
      "metadata": {
        "id": "c-bNa1AeM1m8"
      },
      "source": [
        "The `accumulate()` function takes in an iterable and a function which does some operation on the elements of the iterables. The results are then **accumulated** and operated upon. Sounds confusing? Let’s have a look at the code"
      ]
    },
    {
      "cell_type": "code",
      "metadata": {
        "id": "qQM5nlk-14r1"
      },
      "source": [
        "from operator import mul"
      ],
      "execution_count": 35,
      "outputs": []
    },
    {
      "cell_type": "code",
      "metadata": {
        "id": "wTqxmO7QFGC5"
      },
      "source": [
        "list_a = [1, 2, 3, 4, 5]"
      ],
      "execution_count": 37,
      "outputs": []
    },
    {
      "cell_type": "code",
      "metadata": {
        "id": "Xmgf0Oimnnl-",
        "outputId": "7d7b9902-68d0-475f-dedf-2534db31b19c",
        "colab": {
          "base_uri": "https://localhost:8080/"
        }
      },
      "source": [
        "list(itertools.accumulate(list_a, mul))"
      ],
      "execution_count": 38,
      "outputs": [
        {
          "output_type": "execute_result",
          "data": {
            "text/plain": [
              "[1, 2, 6, 24, 120]"
            ]
          },
          "metadata": {
            "tags": []
          },
          "execution_count": 38
        }
      ]
    },
    {
      "cell_type": "markdown",
      "metadata": {
        "id": "iM6MCcCMOIVd"
      },
      "source": [
        "So accumulate took the list A and a function from the operator module which multiplies two numbers. Then it iterates and produces output in following manner:\n",
        "1. 1 is the first element, so it as is 1\n",
        "2. 1 mul by 2 is 2\n",
        "3. 2 mul by 3 is 6\n",
        "4. 6 mul by 4 is 24\n",
        "5. 24 mul by 5 is 120\n"
      ]
    },
    {
      "cell_type": "markdown",
      "metadata": {
        "id": "lo0jg_LiGPqo"
      },
      "source": [
        "lambda"
      ]
    },
    {
      "cell_type": "code",
      "metadata": {
        "id": "le7KQvXa2ZDw",
        "outputId": "a6540a1f-984d-4a09-901e-9f4ca245a011",
        "colab": {
          "base_uri": "https://localhost:8080/"
        }
      },
      "source": [
        "#using lambda\n",
        "list(itertools.accumulate(list_a))"
      ],
      "execution_count": 41,
      "outputs": [
        {
          "output_type": "execute_result",
          "data": {
            "text/plain": [
              "[1, 3, 6, 10, 15]"
            ]
          },
          "metadata": {
            "tags": []
          },
          "execution_count": 41
        }
      ]
    },
    {
      "cell_type": "markdown",
      "metadata": {
        "id": "EFC_g9k1HQFe"
      },
      "source": [
        "6. Chain"
      ]
    },
    {
      "cell_type": "code",
      "metadata": {
        "id": "BPn7BNH9IgWF"
      },
      "source": [
        "fruits = ['mango', 'apple', 'banana'] #10M\n",
        "prices = [10, 20, 8]\n",
        "quantity = [3, 5, 9]"
      ],
      "execution_count": 43,
      "outputs": []
    },
    {
      "cell_type": "code",
      "metadata": {
        "id": "WnkITtAgIsBM"
      },
      "source": [
        "chained = itertools.chain(fruits, prices, quantity)"
      ],
      "execution_count": 44,
      "outputs": []
    },
    {
      "cell_type": "code",
      "metadata": {
        "id": "_Z1HXYT3Jkbf"
      },
      "source": [
        "next(chained)"
      ],
      "execution_count": null,
      "outputs": []
    },
    {
      "cell_type": "code",
      "metadata": {
        "id": "ykXYooHFJpGv",
        "outputId": "f9cbf4b1-39aa-425e-b655-bf7735c3e81d",
        "colab": {
          "base_uri": "https://localhost:8080/"
        }
      },
      "source": [
        "list(itertools.chain(fruits, prices, quantity))"
      ],
      "execution_count": 45,
      "outputs": [
        {
          "output_type": "execute_result",
          "data": {
            "text/plain": [
              "['mango', 'apple', 'banana', 10, 20, 8, 3, 5, 9]"
            ]
          },
          "metadata": {
            "tags": []
          },
          "execution_count": 45
        }
      ]
    },
    {
      "cell_type": "markdown",
      "metadata": {
        "id": "LJVbmjV5JRIO"
      },
      "source": [
        "Memory efficient"
      ]
    },
    {
      "cell_type": "code",
      "metadata": {
        "id": "3kovUK_1HR1q",
        "outputId": "d2b6b46a-7332-4357-8754-668fa2efa0b0",
        "colab": {
          "base_uri": "https://localhost:8080/"
        }
      },
      "source": [
        "list(itertools.chain(list_a, 'ABCSD'))"
      ],
      "execution_count": 46,
      "outputs": [
        {
          "output_type": "execute_result",
          "data": {
            "text/plain": [
              "[1, 2, 3, 4, 5, 'A', 'B', 'C', 'S', 'D']"
            ]
          },
          "metadata": {
            "tags": []
          },
          "execution_count": 46
        }
      ]
    },
    {
      "cell_type": "markdown",
      "metadata": {
        "id": "F4z31ekaKzHy"
      },
      "source": [
        "7. Filterfalse"
      ]
    },
    {
      "cell_type": "markdown",
      "metadata": {
        "id": "EUBIb08lOX9j"
      },
      "source": [
        "The filterfalse function does exactly what its name is- it filters the elements which give false against a certain condition. That is, only the elements not matching to the condition will be in the output. "
      ]
    },
    {
      "cell_type": "code",
      "metadata": {
        "id": "ywLY3r-EK1Ui",
        "outputId": "e3d2302d-643c-4f1e-d004-42c60b8b411e",
        "colab": {
          "base_uri": "https://localhost:8080/"
        }
      },
      "source": [
        "list(itertools.filterfalse(lambda x: x%2==0, range(10)))"
      ],
      "execution_count": 47,
      "outputs": [
        {
          "output_type": "execute_result",
          "data": {
            "text/plain": [
              "[1, 3, 5, 7, 9]"
            ]
          },
          "metadata": {
            "tags": []
          },
          "execution_count": 47
        }
      ]
    },
    {
      "cell_type": "code",
      "metadata": {
        "id": "-Tane0OsLEMH"
      },
      "source": [
        ""
      ],
      "execution_count": null,
      "outputs": []
    },
    {
      "cell_type": "markdown",
      "metadata": {
        "id": "DNwvNX1uOxc6"
      },
      "source": [
        "8. Starmap"
      ]
    },
    {
      "cell_type": "markdown",
      "metadata": {
        "id": "lYVqvaf-OsFh"
      },
      "source": [
        "**Starmap** function creates an iterator that takes in a function and an iterable with iterables within it as arguments. The function is then applied on the iterables inside just like the map function.\n",
        "The difference between map and starmap is, literally, of a “star”. What does this star do?\n",
        "Answer: **Unpacking**.\n"
      ]
    },
    {
      "cell_type": "code",
      "metadata": {
        "id": "HysF6vn9OwmP",
        "outputId": "8e40ad55-a8d9-420d-8a87-2a81c685f544",
        "colab": {
          "base_uri": "https://localhost:8080/",
          "height": 180
        }
      },
      "source": [
        "lis = [(2, 2), (3, 2), (4, 2)]\n",
        "print(list(map(pow, lis)))"
      ],
      "execution_count": 48,
      "outputs": [
        {
          "output_type": "error",
          "ename": "TypeError",
          "evalue": "ignored",
          "traceback": [
            "\u001b[0;31m---------------------------------------------------------------------------\u001b[0m",
            "\u001b[0;31mTypeError\u001b[0m                                 Traceback (most recent call last)",
            "\u001b[0;32m<ipython-input-48-372921e1f689>\u001b[0m in \u001b[0;36m<module>\u001b[0;34m()\u001b[0m\n\u001b[1;32m      1\u001b[0m \u001b[0mlis\u001b[0m \u001b[0;34m=\u001b[0m \u001b[0;34m[\u001b[0m\u001b[0;34m(\u001b[0m\u001b[0;36m2\u001b[0m\u001b[0;34m,\u001b[0m \u001b[0;36m2\u001b[0m\u001b[0;34m)\u001b[0m\u001b[0;34m,\u001b[0m \u001b[0;34m(\u001b[0m\u001b[0;36m3\u001b[0m\u001b[0;34m,\u001b[0m \u001b[0;36m2\u001b[0m\u001b[0;34m)\u001b[0m\u001b[0;34m,\u001b[0m \u001b[0;34m(\u001b[0m\u001b[0;36m4\u001b[0m\u001b[0;34m,\u001b[0m \u001b[0;36m2\u001b[0m\u001b[0;34m)\u001b[0m\u001b[0;34m]\u001b[0m\u001b[0;34m\u001b[0m\u001b[0;34m\u001b[0m\u001b[0m\n\u001b[0;32m----> 2\u001b[0;31m \u001b[0mprint\u001b[0m\u001b[0;34m(\u001b[0m\u001b[0mlist\u001b[0m\u001b[0;34m(\u001b[0m\u001b[0mmap\u001b[0m\u001b[0;34m(\u001b[0m\u001b[0mpow\u001b[0m\u001b[0;34m,\u001b[0m \u001b[0mlis\u001b[0m\u001b[0;34m)\u001b[0m\u001b[0;34m)\u001b[0m\u001b[0;34m)\u001b[0m\u001b[0;34m\u001b[0m\u001b[0;34m\u001b[0m\u001b[0m\n\u001b[0m",
            "\u001b[0;31mTypeError\u001b[0m: pow expected at least 2 arguments, got 1"
          ]
        }
      ]
    },
    {
      "cell_type": "code",
      "metadata": {
        "id": "1XsSJRkNPV85",
        "outputId": "6efe656b-34ce-43fb-f984-346f3fb81851",
        "colab": {
          "base_uri": "https://localhost:8080/"
        }
      },
      "source": [
        "print(list(itertools.starmap(pow, lis)))"
      ],
      "execution_count": 49,
      "outputs": [
        {
          "output_type": "stream",
          "text": [
            "[4, 9, 16]\n"
          ],
          "name": "stdout"
        }
      ]
    },
    {
      "cell_type": "markdown",
      "metadata": {
        "id": "0IreoFhXTWKB"
      },
      "source": [
        "### Combinatorial Iterators"
      ]
    },
    {
      "cell_type": "code",
      "metadata": {
        "id": "OJepY85OP4g1",
        "outputId": "55af4520-fa1a-4ba7-dc58-42761ce147e7",
        "colab": {
          "base_uri": "https://localhost:8080/",
          "height": 34
        }
      },
      "source": [
        "list(itertools.product('AB', repeat=2))"
      ],
      "execution_count": null,
      "outputs": [
        {
          "output_type": "execute_result",
          "data": {
            "text/plain": [
              "[('A', 'A'), ('A', 'B'), ('B', 'A'), ('B', 'B')]"
            ]
          },
          "metadata": {
            "tags": []
          },
          "execution_count": 87
        }
      ]
    },
    {
      "cell_type": "code",
      "metadata": {
        "id": "B_sV2GDfTe6_",
        "outputId": "38c1ce59-b6f5-469f-b3fa-b81551c9947f",
        "colab": {
          "base_uri": "https://localhost:8080/",
          "height": 34
        }
      },
      "source": [
        "list(itertools.combinations('ABC', 2))"
      ],
      "execution_count": null,
      "outputs": [
        {
          "output_type": "execute_result",
          "data": {
            "text/plain": [
              "[('A', 'B'), ('A', 'C'), ('B', 'C')]"
            ]
          },
          "metadata": {
            "tags": []
          },
          "execution_count": 78
        }
      ]
    },
    {
      "cell_type": "code",
      "metadata": {
        "id": "yJWKewzSUElr",
        "outputId": "ffa2c181-cbb2-44cc-bdfa-e5dceb065ad6",
        "colab": {
          "base_uri": "https://localhost:8080/",
          "height": 34
        }
      },
      "source": [
        "list(itertools.combinations_with_replacement('ABC', 2))"
      ],
      "execution_count": null,
      "outputs": [
        {
          "output_type": "execute_result",
          "data": {
            "text/plain": [
              "[('A', 'A'), ('A', 'B'), ('A', 'C'), ('B', 'B'), ('B', 'C'), ('C', 'C')]"
            ]
          },
          "metadata": {
            "tags": []
          },
          "execution_count": 82
        }
      ]
    },
    {
      "cell_type": "code",
      "metadata": {
        "id": "hPNmNIIETpiF",
        "outputId": "b3271255-bddd-4feb-face-939586dde314",
        "colab": {
          "base_uri": "https://localhost:8080/",
          "height": 34
        }
      },
      "source": [
        "list(itertools.permutations('ABC', 2))"
      ],
      "execution_count": null,
      "outputs": [
        {
          "output_type": "execute_result",
          "data": {
            "text/plain": [
              "[('A', 'B'), ('A', 'C'), ('B', 'A'), ('B', 'C'), ('C', 'A'), ('C', 'B')]"
            ]
          },
          "metadata": {
            "tags": []
          },
          "execution_count": 81
        }
      ]
    },
    {
      "cell_type": "code",
      "metadata": {
        "id": "DxNYJOpCT1OS"
      },
      "source": [
        ""
      ],
      "execution_count": null,
      "outputs": []
    },
    {
      "cell_type": "markdown",
      "metadata": {
        "id": "edAQ6eu5nxR6"
      },
      "source": [
        "# 2. Python Collections"
      ]
    },
    {
      "cell_type": "markdown",
      "metadata": {
        "id": "Qpo1z7dLn3_9"
      },
      "source": [
        "The Collections module in Python consists of special container data types which extend the features and abilities of stock containers like lists, tuples and dictionaries.\n",
        "\n",
        "With these container data types, you not only have features of these stock containers, but also some specialized features. Let's go over these one by one."
      ]
    },
    {
      "cell_type": "code",
      "metadata": {
        "id": "zt8_RR0UsM_l"
      },
      "source": [
        "import collections"
      ],
      "execution_count": 50,
      "outputs": []
    },
    {
      "cell_type": "markdown",
      "metadata": {
        "id": "AQL3fAgXsC37"
      },
      "source": [
        "1. Counter"
      ]
    },
    {
      "cell_type": "markdown",
      "metadata": {
        "id": "m-K7fLsVv9cr"
      },
      "source": [
        "It is a collection where elements are stored as dictionary keys and their counts are stored as dictionary values."
      ]
    },
    {
      "cell_type": "code",
      "metadata": {
        "id": "Qbh-Onl3n0h2"
      },
      "source": [
        "Marvel = \"Bad Wolverine bullied Iron Man Bad Bad Wolverine Poor Poor Iron Man\""
      ],
      "execution_count": 51,
      "outputs": []
    },
    {
      "cell_type": "code",
      "metadata": {
        "id": "oX5I_594s50f"
      },
      "source": [
        "Marvel_count = collections.Counter(Marvel.split())"
      ],
      "execution_count": 52,
      "outputs": []
    },
    {
      "cell_type": "code",
      "metadata": {
        "id": "QrIEB6_Bs8xr",
        "outputId": "827d9869-f55a-41d2-8453-04651337598f",
        "colab": {
          "base_uri": "https://localhost:8080/"
        }
      },
      "source": [
        "type(Marvel_count)"
      ],
      "execution_count": 53,
      "outputs": [
        {
          "output_type": "execute_result",
          "data": {
            "text/plain": [
              "collections.Counter"
            ]
          },
          "metadata": {
            "tags": []
          },
          "execution_count": 53
        }
      ]
    },
    {
      "cell_type": "code",
      "metadata": {
        "id": "672arCGDtmj4",
        "outputId": "e08dca86-395d-4c9e-e242-fa84d499584b",
        "colab": {
          "base_uri": "https://localhost:8080/"
        }
      },
      "source": [
        "Marvel_count['Bad']"
      ],
      "execution_count": 55,
      "outputs": [
        {
          "output_type": "execute_result",
          "data": {
            "text/plain": [
              "3"
            ]
          },
          "metadata": {
            "tags": []
          },
          "execution_count": 55
        }
      ]
    },
    {
      "cell_type": "code",
      "metadata": {
        "id": "RQ9kCLAJtpI8",
        "outputId": "2677817e-aa0c-4403-e375-d0d147889857",
        "colab": {
          "base_uri": "https://localhost:8080/"
        }
      },
      "source": [
        "Marvel_count.elements"
      ],
      "execution_count": 56,
      "outputs": [
        {
          "output_type": "execute_result",
          "data": {
            "text/plain": [
              "<bound method Counter.elements of Counter({'Bad': 3, 'Wolverine': 2, 'Iron': 2, 'Man': 2, 'Poor': 2, 'bullied': 1})>"
            ]
          },
          "metadata": {
            "tags": []
          },
          "execution_count": 56
        }
      ]
    },
    {
      "cell_type": "code",
      "metadata": {
        "id": "YWklS8ESuood",
        "outputId": "d766644a-d319-484b-d2fe-cd4fcfec1ce1",
        "colab": {
          "base_uri": "https://localhost:8080/"
        }
      },
      "source": [
        "Marvel_count.values()"
      ],
      "execution_count": 57,
      "outputs": [
        {
          "output_type": "execute_result",
          "data": {
            "text/plain": [
              "dict_values([3, 2, 1, 2, 2, 2])"
            ]
          },
          "metadata": {
            "tags": []
          },
          "execution_count": 57
        }
      ]
    },
    {
      "cell_type": "code",
      "metadata": {
        "id": "q-8JF1tout7J",
        "outputId": "42d7a489-e466-4950-8d57-a4d986e409e0",
        "colab": {
          "base_uri": "https://localhost:8080/"
        }
      },
      "source": [
        "Marvel_count.keys()"
      ],
      "execution_count": 58,
      "outputs": [
        {
          "output_type": "execute_result",
          "data": {
            "text/plain": [
              "dict_keys(['Bad', 'Wolverine', 'bullied', 'Iron', 'Man', 'Poor'])"
            ]
          },
          "metadata": {
            "tags": []
          },
          "execution_count": 58
        }
      ]
    },
    {
      "cell_type": "code",
      "metadata": {
        "id": "EVCNrs58tqUS",
        "outputId": "18e95e8c-5f05-4f13-cfd2-6d528be77041",
        "colab": {
          "base_uri": "https://localhost:8080/"
        }
      },
      "source": [
        "Marvel_count['Wolverine']"
      ],
      "execution_count": 60,
      "outputs": [
        {
          "output_type": "execute_result",
          "data": {
            "text/plain": [
              "2"
            ]
          },
          "metadata": {
            "tags": []
          },
          "execution_count": 60
        }
      ]
    },
    {
      "cell_type": "code",
      "metadata": {
        "id": "pXWc-BRgt5eQ",
        "outputId": "486b6bc6-9e7c-4a70-9c54-e6ed6cb7897c",
        "colab": {
          "base_uri": "https://localhost:8080/"
        }
      },
      "source": [
        "Marvel_count.most_common(5)"
      ],
      "execution_count": 63,
      "outputs": [
        {
          "output_type": "execute_result",
          "data": {
            "text/plain": [
              "[('Bad', 3), ('Wolverine', 2), ('Iron', 2), ('Man', 2), ('Poor', 2)]"
            ]
          },
          "metadata": {
            "tags": []
          },
          "execution_count": 63
        }
      ]
    },
    {
      "cell_type": "code",
      "metadata": {
        "id": "3kLl9riIuAUg"
      },
      "source": [
        "Marvel_2 = collections.Counter({'Bad': 1, 'Wolverine': 2, 'Iron': 2, 'Man': 2, 'Poor': 2, 'bullied': 1})"
      ],
      "execution_count": 64,
      "outputs": []
    },
    {
      "cell_type": "code",
      "metadata": {
        "id": "CwCXhm_TxChg"
      },
      "source": [
        "Marvel_count.subtract(Marvel_2)"
      ],
      "execution_count": 65,
      "outputs": []
    },
    {
      "cell_type": "code",
      "metadata": {
        "id": "Px2V9369xEBp"
      },
      "source": [
        "Marvel_count.update(Marvel_2)"
      ],
      "execution_count": null,
      "outputs": []
    },
    {
      "cell_type": "code",
      "metadata": {
        "id": "MiAFaGyex0ix",
        "outputId": "55438c0a-0077-4f91-caed-a1f07f14faf8",
        "colab": {
          "base_uri": "https://localhost:8080/"
        }
      },
      "source": [
        "Marvel_count"
      ],
      "execution_count": 66,
      "outputs": [
        {
          "output_type": "execute_result",
          "data": {
            "text/plain": [
              "Counter({'Bad': 2,\n",
              "         'Iron': 0,\n",
              "         'Man': 0,\n",
              "         'Poor': 0,\n",
              "         'Wolverine': 0,\n",
              "         'bullied': 0})"
            ]
          },
          "metadata": {
            "tags": []
          },
          "execution_count": 66
        }
      ]
    },
    {
      "cell_type": "markdown",
      "metadata": {
        "id": "Ji-j0x4T2vum"
      },
      "source": [
        "2. ChainMap"
      ]
    },
    {
      "cell_type": "markdown",
      "metadata": {
        "id": "CP7WsouZ2xOV"
      },
      "source": [
        "A ChainMap groups multiple dicts or other mappings together to create a single, updateable view. If no maps are specified, a single empty dictionary is provided so that a new chain always has at least one mapping.\n",
        "\n",
        "The underlying mappings are stored in a list. That list is public and can be accessed or updated using the maps attribute. There is no other state.\n",
        "\n",
        "Lookups search the underlying mappings successively until a key is found. In contrast, writes, updates, and deletions only operate on the first mapping.\n",
        "\n",
        "A ChainMap incorporates the underlying mappings by reference. So, if one of the underlying mappings gets updated, those changes will be reflected in ChainMap.\n",
        "\n",
        "All of the usual dictionary methods are supported. In addition, there is a maps attribute, a method for creating new subcontexts, and a property for accessing all but the first mapping:"
      ]
    },
    {
      "cell_type": "code",
      "metadata": {
        "id": "ZJQGcfB51MKA"
      },
      "source": [
        "dic1 = { 'a' : 1, 'b' : 2 } \n",
        "dic2 = { 'b' : 3, 'c' : 4 } \n",
        "dic3 = { 'd' : 5, 'b' : 7 }"
      ],
      "execution_count": 68,
      "outputs": []
    },
    {
      "cell_type": "code",
      "metadata": {
        "id": "tVCWa6MV3Fpw"
      },
      "source": [
        "chain1 = collections.ChainMap(dic2, dic1)"
      ],
      "execution_count": 69,
      "outputs": []
    },
    {
      "cell_type": "code",
      "metadata": {
        "id": "_Fl0t7Crww93",
        "outputId": "e987671f-9b05-4af4-8b95-aecc52897ecd",
        "colab": {
          "base_uri": "https://localhost:8080/"
        }
      },
      "source": [
        "chain1\n",
        "# dic2 --> dic1"
      ],
      "execution_count": 71,
      "outputs": [
        {
          "output_type": "execute_result",
          "data": {
            "text/plain": [
              "ChainMap({'b': 3, 'c': 4}, {'a': 1, 'b': 2})"
            ]
          },
          "metadata": {
            "tags": []
          },
          "execution_count": 71
        }
      ]
    },
    {
      "cell_type": "code",
      "metadata": {
        "id": "No4sS6q93IqU",
        "outputId": "36d31ad8-84c3-4800-a202-91a00583d697",
        "colab": {
          "base_uri": "https://localhost:8080/"
        }
      },
      "source": [
        "list(chain1)"
      ],
      "execution_count": 70,
      "outputs": [
        {
          "output_type": "execute_result",
          "data": {
            "text/plain": [
              "['a', 'c', 'b']"
            ]
          },
          "metadata": {
            "tags": []
          },
          "execution_count": 70
        }
      ]
    },
    {
      "cell_type": "code",
      "metadata": {
        "id": "KRJ4YUix3JtT",
        "outputId": "4e478b37-e5f2-44c7-9270-c5ebee5aab8a",
        "colab": {
          "base_uri": "https://localhost:8080/"
        }
      },
      "source": [
        "chain1.maps"
      ],
      "execution_count": 76,
      "outputs": [
        {
          "output_type": "execute_result",
          "data": {
            "text/plain": [
              "[{'b': 3, 'c': 4}, {'a': 1, 'b': 2}]"
            ]
          },
          "metadata": {
            "tags": []
          },
          "execution_count": 76
        }
      ]
    },
    {
      "cell_type": "code",
      "metadata": {
        "id": "APrZCTG1E3O0",
        "outputId": "d9532d8d-a3a3-4c20-be25-734d9da9f1c9",
        "colab": {
          "base_uri": "https://localhost:8080/"
        }
      },
      "source": [
        "list(chain1.keys())"
      ],
      "execution_count": 75,
      "outputs": [
        {
          "output_type": "execute_result",
          "data": {
            "text/plain": [
              "['a', 'c', 'b']"
            ]
          },
          "metadata": {
            "tags": []
          },
          "execution_count": 75
        }
      ]
    },
    {
      "cell_type": "code",
      "metadata": {
        "id": "m8tUn0HUFBwl",
        "outputId": "5f0002b6-7644-41c8-87b4-80933f316eca",
        "colab": {
          "base_uri": "https://localhost:8080/"
        }
      },
      "source": [
        "list(chain1.values())"
      ],
      "execution_count": null,
      "outputs": [
        {
          "output_type": "execute_result",
          "data": {
            "text/plain": [
              "[2, 1, 4]"
            ]
          },
          "metadata": {
            "tags": []
          },
          "execution_count": 55
        }
      ]
    },
    {
      "cell_type": "code",
      "metadata": {
        "id": "6bO8nsvb5VCF"
      },
      "source": [
        "chain1 = chain1.new_child(dic3)"
      ],
      "execution_count": null,
      "outputs": []
    },
    {
      "cell_type": "code",
      "metadata": {
        "id": "kErZsu9SD4si",
        "outputId": "ac9bbbcd-32b3-481b-f78d-0c1286a42e5e",
        "colab": {
          "base_uri": "https://localhost:8080/"
        }
      },
      "source": [
        "chain1.maps"
      ],
      "execution_count": 77,
      "outputs": [
        {
          "output_type": "execute_result",
          "data": {
            "text/plain": [
              "[{'b': 3, 'c': 4}, {'a': 1, 'b': 2}]"
            ]
          },
          "metadata": {
            "tags": []
          },
          "execution_count": 77
        }
      ]
    },
    {
      "cell_type": "code",
      "metadata": {
        "id": "CgXosSApFNPs",
        "outputId": "6d587b4c-776e-4594-87b5-1ef0fbd838d7",
        "colab": {
          "base_uri": "https://localhost:8080/"
        }
      },
      "source": [
        "list(chain1)"
      ],
      "execution_count": null,
      "outputs": [
        {
          "output_type": "execute_result",
          "data": {
            "text/plain": [
              "['a', 'c', 'b', 'd']"
            ]
          },
          "metadata": {
            "tags": []
          },
          "execution_count": 60
        }
      ]
    },
    {
      "cell_type": "code",
      "metadata": {
        "id": "HXt4x258FWMo",
        "outputId": "25d07e7a-369e-4dc8-c46c-026710b9df7e",
        "colab": {
          "base_uri": "https://localhost:8080/"
        }
      },
      "source": [
        "list(chain1.keys())"
      ],
      "execution_count": null,
      "outputs": [
        {
          "output_type": "execute_result",
          "data": {
            "text/plain": [
              "['a', 'c', 'b', 'd']"
            ]
          },
          "metadata": {
            "tags": []
          },
          "execution_count": 61
        }
      ]
    },
    {
      "cell_type": "code",
      "metadata": {
        "id": "eGZDiDoHFZ7u",
        "outputId": "335a2067-d0d2-456c-f950-e15cf419082d",
        "colab": {
          "base_uri": "https://localhost:8080/"
        }
      },
      "source": [
        "chain1['b']"
      ],
      "execution_count": 80,
      "outputs": [
        {
          "output_type": "execute_result",
          "data": {
            "text/plain": [
              "2"
            ]
          },
          "metadata": {
            "tags": []
          },
          "execution_count": 80
        }
      ]
    },
    {
      "cell_type": "code",
      "metadata": {
        "id": "DR6BlJKzFn9e"
      },
      "source": [
        "chain1.maps = reversed(chain1.maps) "
      ],
      "execution_count": 79,
      "outputs": []
    },
    {
      "cell_type": "code",
      "metadata": {
        "id": "G3UVF6luFzbG",
        "outputId": "ea1a8a9a-b159-4389-a627-287eccf3caf4",
        "colab": {
          "base_uri": "https://localhost:8080/"
        }
      },
      "source": [
        "chain1.maps"
      ],
      "execution_count": null,
      "outputs": [
        {
          "output_type": "execute_result",
          "data": {
            "text/plain": [
              "<list_reverseiterator at 0x7f95edfdcf28>"
            ]
          },
          "metadata": {
            "tags": []
          },
          "execution_count": 79
        }
      ]
    },
    {
      "cell_type": "code",
      "metadata": {
        "id": "DFY5chwxF1G2",
        "outputId": "7d2c90ba-7823-4237-937e-af14dbeac626",
        "colab": {
          "base_uri": "https://localhost:8080/"
        }
      },
      "source": [
        "chain1['b']"
      ],
      "execution_count": null,
      "outputs": [
        {
          "output_type": "execute_result",
          "data": {
            "text/plain": [
              "2"
            ]
          },
          "metadata": {
            "tags": []
          },
          "execution_count": 80
        }
      ]
    },
    {
      "cell_type": "code",
      "metadata": {
        "id": "ZZVv7eLkGPx5",
        "outputId": "6fbe1c42-543f-4652-9078-817726ddcdd9",
        "colab": {
          "base_uri": "https://localhost:8080/"
        }
      },
      "source": [
        "chain1.parents"
      ],
      "execution_count": null,
      "outputs": [
        {
          "output_type": "execute_result",
          "data": {
            "text/plain": [
              "ChainMap({'b': 3, 'c': 4}, {'d': 5, 'b': 7})"
            ]
          },
          "metadata": {
            "tags": []
          },
          "execution_count": 84
        }
      ]
    },
    {
      "cell_type": "markdown",
      "metadata": {
        "id": "F3UQzllvKTa5"
      },
      "source": [
        "3. Deque"
      ]
    },
    {
      "cell_type": "markdown",
      "metadata": {
        "id": "21nHHTrowBbQ"
      },
      "source": [
        "Deques are a generalization of stacks and queues (the name is pronounced “deck” and is short for “double-ended queue”). "
      ]
    },
    {
      "cell_type": "code",
      "metadata": {
        "id": "3LkLzeXhI7s9"
      },
      "source": [
        "deq = collections.deque([1, 2, 3, 4, 5])"
      ],
      "execution_count": 81,
      "outputs": []
    },
    {
      "cell_type": "code",
      "metadata": {
        "id": "IL8r4kC_wo0w",
        "outputId": "95f73152-3efe-4c6e-d901-561ae4199d06",
        "colab": {
          "base_uri": "https://localhost:8080/"
        }
      },
      "source": [
        "deq"
      ],
      "execution_count": 82,
      "outputs": [
        {
          "output_type": "execute_result",
          "data": {
            "text/plain": [
              "deque([1, 2, 3, 4, 5])"
            ]
          },
          "metadata": {
            "tags": []
          },
          "execution_count": 82
        }
      ]
    },
    {
      "cell_type": "code",
      "metadata": {
        "id": "yh8XqzNxxhk_"
      },
      "source": [
        "deq.append(6)"
      ],
      "execution_count": 83,
      "outputs": []
    },
    {
      "cell_type": "code",
      "metadata": {
        "id": "fJ4TvPXpxqwq"
      },
      "source": [
        "deq.append(7)"
      ],
      "execution_count": null,
      "outputs": []
    },
    {
      "cell_type": "code",
      "metadata": {
        "id": "h11l1--IxsS8"
      },
      "source": [
        "deq.append(8)"
      ],
      "execution_count": null,
      "outputs": []
    },
    {
      "cell_type": "code",
      "metadata": {
        "id": "SWs-IuB0xtVC"
      },
      "source": [
        "deq"
      ],
      "execution_count": null,
      "outputs": []
    },
    {
      "cell_type": "code",
      "metadata": {
        "id": "1xz4CNU7xuAE"
      },
      "source": [
        "deq.appendleft(8)"
      ],
      "execution_count": 84,
      "outputs": []
    },
    {
      "cell_type": "code",
      "metadata": {
        "id": "OEvGco-dx5rn",
        "outputId": "91864b97-5f24-4e54-bed1-23c018d62f1f",
        "colab": {
          "base_uri": "https://localhost:8080/"
        }
      },
      "source": [
        "deq"
      ],
      "execution_count": 85,
      "outputs": [
        {
          "output_type": "execute_result",
          "data": {
            "text/plain": [
              "deque([8, 1, 2, 3, 4, 5, 6])"
            ]
          },
          "metadata": {
            "tags": []
          },
          "execution_count": 85
        }
      ]
    },
    {
      "cell_type": "code",
      "metadata": {
        "id": "IlalDUwrx65v",
        "outputId": "2f345411-fba0-429d-9d11-487901efa7d3",
        "colab": {
          "base_uri": "https://localhost:8080/"
        }
      },
      "source": [
        "deq.count(2)"
      ],
      "execution_count": null,
      "outputs": [
        {
          "output_type": "execute_result",
          "data": {
            "text/plain": [
              "1"
            ]
          },
          "metadata": {
            "tags": []
          },
          "execution_count": 21
        }
      ]
    },
    {
      "cell_type": "code",
      "metadata": {
        "id": "ZBjgH1yeyI2O"
      },
      "source": [
        "deq.extend([0,0,0])"
      ],
      "execution_count": 86,
      "outputs": []
    },
    {
      "cell_type": "code",
      "metadata": {
        "id": "4cCLAj-TyRfP",
        "outputId": "9f595dcd-5d08-4255-9ddd-8741e8a637cc",
        "colab": {
          "base_uri": "https://localhost:8080/"
        }
      },
      "source": [
        "deq"
      ],
      "execution_count": 87,
      "outputs": [
        {
          "output_type": "execute_result",
          "data": {
            "text/plain": [
              "deque([8, 1, 2, 3, 4, 5, 6, 0, 0, 0])"
            ]
          },
          "metadata": {
            "tags": []
          },
          "execution_count": 87
        }
      ]
    },
    {
      "cell_type": "code",
      "metadata": {
        "id": "dIOaDmMdyUXz"
      },
      "source": [
        "deq.extendleft([0,0,0])"
      ],
      "execution_count": 88,
      "outputs": []
    },
    {
      "cell_type": "code",
      "metadata": {
        "id": "er7YpnG8yW4U",
        "outputId": "9f7f22d4-82b9-4e4b-987e-7227127571a4",
        "colab": {
          "base_uri": "https://localhost:8080/"
        }
      },
      "source": [
        "deq"
      ],
      "execution_count": 89,
      "outputs": [
        {
          "output_type": "execute_result",
          "data": {
            "text/plain": [
              "deque([0, 0, 0, 8, 1, 2, 3, 4, 5, 6, 0, 0, 0])"
            ]
          },
          "metadata": {
            "tags": []
          },
          "execution_count": 89
        }
      ]
    },
    {
      "cell_type": "code",
      "metadata": {
        "id": "4IM1NhhEyYB-"
      },
      "source": [
        "deq.insert(2,7)"
      ],
      "execution_count": 101,
      "outputs": []
    },
    {
      "cell_type": "code",
      "metadata": {
        "id": "cJAOT6s5yoNu",
        "outputId": "d114cd1a-c87b-4fa4-cf2f-90896bf7aa41",
        "colab": {
          "base_uri": "https://localhost:8080/"
        }
      },
      "source": [
        "deq"
      ],
      "execution_count": 102,
      "outputs": [
        {
          "output_type": "execute_result",
          "data": {
            "text/plain": [
              "deque([0, 0, 7, 6, 5, 4, 3, 2, 1, 8, 0, 0])"
            ]
          },
          "metadata": {
            "tags": []
          },
          "execution_count": 102
        }
      ]
    },
    {
      "cell_type": "code",
      "metadata": {
        "id": "utdwDbgKyvDu",
        "outputId": "0ba64543-3451-4d2f-83a3-da2ad8030cee",
        "colab": {
          "base_uri": "https://localhost:8080/"
        }
      },
      "source": [
        "deq.pop()"
      ],
      "execution_count": 92,
      "outputs": [
        {
          "output_type": "execute_result",
          "data": {
            "text/plain": [
              "0"
            ]
          },
          "metadata": {
            "tags": []
          },
          "execution_count": 92
        }
      ]
    },
    {
      "cell_type": "code",
      "metadata": {
        "id": "o9JU5X-Wy470",
        "outputId": "7aeeffc9-f652-4c52-f5ce-d1b2dd5197f5",
        "colab": {
          "base_uri": "https://localhost:8080/"
        }
      },
      "source": [
        "deq.popleft()"
      ],
      "execution_count": 93,
      "outputs": [
        {
          "output_type": "execute_result",
          "data": {
            "text/plain": [
              "0"
            ]
          },
          "metadata": {
            "tags": []
          },
          "execution_count": 93
        }
      ]
    },
    {
      "cell_type": "code",
      "metadata": {
        "id": "vU-Mpq3gy8lk"
      },
      "source": [
        "deq.remove(3)"
      ],
      "execution_count": 94,
      "outputs": []
    },
    {
      "cell_type": "code",
      "metadata": {
        "id": "SKOeRBY-zFi2"
      },
      "source": [
        "deq.remove(5)"
      ],
      "execution_count": null,
      "outputs": []
    },
    {
      "cell_type": "code",
      "metadata": {
        "id": "d9pWgjPDzHUc",
        "outputId": "7c56573a-bc55-41ec-974c-b6a73ad2de96",
        "colab": {
          "base_uri": "https://localhost:8080/"
        }
      },
      "source": [
        "deq"
      ],
      "execution_count": null,
      "outputs": [
        {
          "output_type": "execute_result",
          "data": {
            "text/plain": [
              "deque([2, 3, 4])"
            ]
          },
          "metadata": {
            "tags": []
          },
          "execution_count": 39
        }
      ]
    },
    {
      "cell_type": "code",
      "metadata": {
        "id": "VyIIvhBnzI0j"
      },
      "source": [
        "deq.reverse()"
      ],
      "execution_count": 95,
      "outputs": []
    },
    {
      "cell_type": "code",
      "metadata": {
        "id": "kgjDlNlCzYwL",
        "outputId": "fe32bfb8-6f31-4cbe-f1c6-08cc82241e52",
        "colab": {
          "base_uri": "https://localhost:8080/"
        }
      },
      "source": [
        "deq"
      ],
      "execution_count": 96,
      "outputs": [
        {
          "output_type": "execute_result",
          "data": {
            "text/plain": [
              "deque([0, 0, 6, 5, 4, 3, 2, 1, 8, 0, 0])"
            ]
          },
          "metadata": {
            "tags": []
          },
          "execution_count": 96
        }
      ]
    },
    {
      "cell_type": "code",
      "metadata": {
        "id": "jr0pivx9zZ1U"
      },
      "source": [
        "deq.rotate(2)"
      ],
      "execution_count": 97,
      "outputs": []
    },
    {
      "cell_type": "code",
      "metadata": {
        "id": "6Yeu6HeOzt5D",
        "outputId": "d537814c-aaf4-4343-e97e-1d0707d5d2fe",
        "colab": {
          "base_uri": "https://localhost:8080/"
        }
      },
      "source": [
        "deq"
      ],
      "execution_count": 98,
      "outputs": [
        {
          "output_type": "execute_result",
          "data": {
            "text/plain": [
              "deque([0, 0, 0, 0, 6, 5, 4, 3, 2, 1, 8])"
            ]
          },
          "metadata": {
            "tags": []
          },
          "execution_count": 98
        }
      ]
    },
    {
      "cell_type": "code",
      "metadata": {
        "id": "k22g_-bpzubU"
      },
      "source": [
        "deq.rotate(-2)"
      ],
      "execution_count": 99,
      "outputs": []
    },
    {
      "cell_type": "code",
      "metadata": {
        "id": "atMaNbxCzxDa",
        "outputId": "182e83ee-8f1c-4b81-abf1-87cece9bf446",
        "colab": {
          "base_uri": "https://localhost:8080/"
        }
      },
      "source": [
        "deq"
      ],
      "execution_count": 100,
      "outputs": [
        {
          "output_type": "execute_result",
          "data": {
            "text/plain": [
              "deque([0, 0, 6, 5, 4, 3, 2, 1, 8, 0, 0])"
            ]
          },
          "metadata": {
            "tags": []
          },
          "execution_count": 100
        }
      ]
    },
    {
      "cell_type": "markdown",
      "metadata": {
        "id": "mDpLYGsU7OrO"
      },
      "source": [
        "4. Named Tuple"
      ]
    },
    {
      "cell_type": "markdown",
      "metadata": {
        "id": "LNvk9EeU7VuF"
      },
      "source": [
        "Named tuples assign meaning to each position in a tuple and allow for more readable, self-documenting code. They can be used wherever regular tuples are used, and they add the ability to access fields by name instead of position index."
      ]
    },
    {
      "cell_type": "code",
      "metadata": {
        "id": "Bc72zOUBzxgW"
      },
      "source": [
        "Performance = collections.namedtuple('Employee_Rating', ['Q1', 'Q2', 'Q3', 'Q4'])"
      ],
      "execution_count": 103,
      "outputs": []
    },
    {
      "cell_type": "code",
      "metadata": {
        "id": "ta7szb7_8P7w"
      },
      "source": [
        "rahul = Performance(3,4,3.5,4.5)\n",
        "ankit = Performance(4,4.5,4,4.5)"
      ],
      "execution_count": 104,
      "outputs": []
    },
    {
      "cell_type": "code",
      "metadata": {
        "id": "FusfcS9q8RWs",
        "outputId": "78f40790-27d0-478d-f63e-5fb1817fcffe",
        "colab": {
          "base_uri": "https://localhost:8080/"
        }
      },
      "source": [
        "print(ankit)\n",
        "print(rahul)"
      ],
      "execution_count": 105,
      "outputs": [
        {
          "output_type": "stream",
          "text": [
            "Employee_Rating(Q1=4, Q2=4.5, Q3=4, Q4=4.5)\n",
            "Employee_Rating(Q1=3, Q2=4, Q3=3.5, Q4=4.5)\n"
          ],
          "name": "stdout"
        }
      ]
    },
    {
      "cell_type": "code",
      "metadata": {
        "id": "UEyaHbWg0bLa",
        "outputId": "6dd8f015-761a-43f1-b55a-f698b0fb282c",
        "colab": {
          "base_uri": "https://localhost:8080/"
        }
      },
      "source": [
        "ankit[2]"
      ],
      "execution_count": 106,
      "outputs": [
        {
          "output_type": "execute_result",
          "data": {
            "text/plain": [
              "4"
            ]
          },
          "metadata": {
            "tags": []
          },
          "execution_count": 106
        }
      ]
    },
    {
      "cell_type": "code",
      "metadata": {
        "id": "EhYvk-QU0hNo",
        "outputId": "98b2fa16-fd26-4b34-d160-40a1d92d9e55",
        "colab": {
          "base_uri": "https://localhost:8080/"
        }
      },
      "source": [
        "ankit.Q3 > rahul.Q3"
      ],
      "execution_count": 108,
      "outputs": [
        {
          "output_type": "execute_result",
          "data": {
            "text/plain": [
              "True"
            ]
          },
          "metadata": {
            "tags": []
          },
          "execution_count": 108
        }
      ]
    },
    {
      "cell_type": "code",
      "metadata": {
        "id": "JU-NbSCVB2BM",
        "outputId": "a26e5915-b990-4bd2-dfd8-c72858f440f6",
        "colab": {
          "base_uri": "https://localhost:8080/"
        }
      },
      "source": [
        "ankit.Q1"
      ],
      "execution_count": null,
      "outputs": [
        {
          "output_type": "execute_result",
          "data": {
            "text/plain": [
              "4"
            ]
          },
          "metadata": {
            "tags": []
          },
          "execution_count": 15
        }
      ]
    },
    {
      "cell_type": "code",
      "metadata": {
        "id": "8ZgpKYzyHjFx",
        "outputId": "82b40382-8416-4f1d-a877-d9754c86b945",
        "colab": {
          "base_uri": "https://localhost:8080/"
        }
      },
      "source": [
        "rahul.Q4"
      ],
      "execution_count": null,
      "outputs": [
        {
          "output_type": "execute_result",
          "data": {
            "text/plain": [
              "4.5"
            ]
          },
          "metadata": {
            "tags": []
          },
          "execution_count": 16
        }
      ]
    },
    {
      "cell_type": "code",
      "metadata": {
        "id": "ArjJr8QWHyxZ"
      },
      "source": [
        "Milkha = Performance._make([4, 5, 5, 4.5])"
      ],
      "execution_count": 109,
      "outputs": []
    },
    {
      "cell_type": "code",
      "metadata": {
        "id": "y8K3KNzrINZ9",
        "outputId": "eefe7aff-0d60-4b0d-df29-f2e4158b09b5",
        "colab": {
          "base_uri": "https://localhost:8080/"
        }
      },
      "source": [
        "Milkha.Q1"
      ],
      "execution_count": null,
      "outputs": [
        {
          "output_type": "execute_result",
          "data": {
            "text/plain": [
              "4"
            ]
          },
          "metadata": {
            "tags": []
          },
          "execution_count": 19
        }
      ]
    },
    {
      "cell_type": "code",
      "metadata": {
        "id": "KlCzqBnJIW3K",
        "outputId": "655f40f5-7811-423c-948f-152e9c2b65bd",
        "colab": {
          "base_uri": "https://localhost:8080/"
        }
      },
      "source": [
        "print(Milkha)"
      ],
      "execution_count": 110,
      "outputs": [
        {
          "output_type": "stream",
          "text": [
            "Employee_Rating(Q1=4, Q2=5, Q3=5, Q4=4.5)\n"
          ],
          "name": "stdout"
        }
      ]
    },
    {
      "cell_type": "code",
      "metadata": {
        "id": "YHUu3DwiIaZ_",
        "outputId": "2ea1f8d6-32e8-4a7c-fe0b-3a6466dfcbef",
        "colab": {
          "base_uri": "https://localhost:8080/"
        }
      },
      "source": [
        "Performance._asdict(rahul)"
      ],
      "execution_count": 111,
      "outputs": [
        {
          "output_type": "execute_result",
          "data": {
            "text/plain": [
              "OrderedDict([('Q1', 3), ('Q2', 4), ('Q3', 3.5), ('Q4', 4.5)])"
            ]
          },
          "metadata": {
            "tags": []
          },
          "execution_count": 111
        }
      ]
    },
    {
      "cell_type": "code",
      "metadata": {
        "id": "gWjh4xrGIfyX",
        "outputId": "7f36875f-c403-4fcc-fada-bb575635fb3f",
        "colab": {
          "base_uri": "https://localhost:8080/"
        }
      },
      "source": [
        "rahul._replace(Q1=2)"
      ],
      "execution_count": 112,
      "outputs": [
        {
          "output_type": "execute_result",
          "data": {
            "text/plain": [
              "Employee_Rating(Q1=2, Q2=4, Q3=3.5, Q4=4.5)"
            ]
          },
          "metadata": {
            "tags": []
          },
          "execution_count": 112
        }
      ]
    },
    {
      "cell_type": "code",
      "metadata": {
        "id": "ZZWdEYfHJrGY"
      },
      "source": [
        "rahul.Q1"
      ],
      "execution_count": null,
      "outputs": []
    },
    {
      "cell_type": "code",
      "metadata": {
        "id": "Yx7rW4X6Js-K",
        "outputId": "b8d96f79-e423-4b70-b3d8-c5d153cbbf57",
        "colab": {
          "base_uri": "https://localhost:8080/"
        }
      },
      "source": [
        "Performance._fields"
      ],
      "execution_count": 113,
      "outputs": [
        {
          "output_type": "execute_result",
          "data": {
            "text/plain": [
              "('Q1', 'Q2', 'Q3', 'Q4')"
            ]
          },
          "metadata": {
            "tags": []
          },
          "execution_count": 113
        }
      ]
    },
    {
      "cell_type": "markdown",
      "metadata": {
        "id": "fmyO1jpaNBFO"
      },
      "source": [
        "5. Defaultdict"
      ]
    },
    {
      "cell_type": "markdown",
      "metadata": {
        "id": "ehD1vEidPiMI"
      },
      "source": [
        "A defaultdict works exactly like a normal dict, but it is initialized with a function (“default factory”) that takes no arguments and provides the default value for a nonexistent key.\n",
        "\n",
        "A defaultdict will never raise a KeyError. Any key that does not exist gets the value returned by the default factory."
      ]
    },
    {
      "cell_type": "code",
      "metadata": {
        "id": "8gSHLeWsJ0ob"
      },
      "source": [
        "dict2 = collections.defaultdict(list, {'a':1, 'b':2})"
      ],
      "execution_count": null,
      "outputs": []
    },
    {
      "cell_type": "code",
      "metadata": {
        "id": "DtgAGYPpNvoI",
        "outputId": "d88b8ee6-8431-4379-abda-125ff5c4e41a",
        "colab": {
          "base_uri": "https://localhost:8080/"
        }
      },
      "source": [
        "dict2['a']"
      ],
      "execution_count": null,
      "outputs": [
        {
          "output_type": "execute_result",
          "data": {
            "text/plain": [
              "1"
            ]
          },
          "metadata": {
            "tags": []
          },
          "execution_count": 56
        }
      ]
    },
    {
      "cell_type": "code",
      "metadata": {
        "id": "p4dTITmXNERe"
      },
      "source": [
        "dict2['a']+=1"
      ],
      "execution_count": null,
      "outputs": []
    },
    {
      "cell_type": "code",
      "metadata": {
        "id": "v8RI1ZjRNH5j",
        "outputId": "b76e7f3c-098c-4172-d251-b1b4955df496",
        "colab": {
          "base_uri": "https://localhost:8080/"
        }
      },
      "source": [
        "dict2"
      ],
      "execution_count": null,
      "outputs": [
        {
          "output_type": "execute_result",
          "data": {
            "text/plain": [
              "defaultdict(list, {'a': 2, 'b': 2, 'c': []})"
            ]
          },
          "metadata": {
            "tags": []
          },
          "execution_count": 58
        }
      ]
    },
    {
      "cell_type": "code",
      "metadata": {
        "id": "4bGBVCC0NOup",
        "outputId": "687b70df-0ccf-46a0-948a-2082256bc05e",
        "colab": {
          "base_uri": "https://localhost:8080/"
        }
      },
      "source": [
        "dict2['d']"
      ],
      "execution_count": null,
      "outputs": [
        {
          "output_type": "execute_result",
          "data": {
            "text/plain": [
              "[]"
            ]
          },
          "metadata": {
            "tags": []
          },
          "execution_count": 59
        }
      ]
    },
    {
      "cell_type": "code",
      "metadata": {
        "id": "fs_z5PnENg8j",
        "outputId": "a0c41222-c717-4d8d-8501-7914b46960ea",
        "colab": {
          "base_uri": "https://localhost:8080/"
        }
      },
      "source": [
        "dict2"
      ],
      "execution_count": null,
      "outputs": [
        {
          "output_type": "execute_result",
          "data": {
            "text/plain": [
              "defaultdict(list, {'a': 2, 'b': 2, 'c': [], 'd': []})"
            ]
          },
          "metadata": {
            "tags": []
          },
          "execution_count": 60
        }
      ]
    },
    {
      "cell_type": "code",
      "metadata": {
        "id": "JU5PE8ueN_pB"
      },
      "source": [
        "marks = collections.defaultdict(lambda: 40)"
      ],
      "execution_count": null,
      "outputs": []
    },
    {
      "cell_type": "code",
      "metadata": {
        "id": "fz8ftj4cOjKn",
        "outputId": "21f7e6a9-c089-4944-cb71-52bb1b9098b6",
        "colab": {
          "base_uri": "https://localhost:8080/"
        }
      },
      "source": [
        "marks['Ankit'] = 97\n",
        "marks['Rahul'] = 94\n",
        "marks['Vikram']"
      ],
      "execution_count": null,
      "outputs": [
        {
          "output_type": "execute_result",
          "data": {
            "text/plain": [
              "40"
            ]
          },
          "metadata": {
            "tags": []
          },
          "execution_count": 62
        }
      ]
    },
    {
      "cell_type": "code",
      "metadata": {
        "id": "4WyEhAx9Oux4",
        "outputId": "382b0499-082e-4d14-9c03-afcfa2450322",
        "colab": {
          "base_uri": "https://localhost:8080/"
        }
      },
      "source": [
        "marks.items()"
      ],
      "execution_count": null,
      "outputs": [
        {
          "output_type": "execute_result",
          "data": {
            "text/plain": [
              "dict_items([('Ankit', 97), ('Rahul', 94), ('Vikram', 40)])"
            ]
          },
          "metadata": {
            "tags": []
          },
          "execution_count": 68
        }
      ]
    },
    {
      "cell_type": "code",
      "metadata": {
        "id": "7YzVXfQwOwIf"
      },
      "source": [
        "s = 'mississippi'\n",
        "d = collections.defaultdict(int)\n",
        "for k in s:\n",
        "  d[k] += 1"
      ],
      "execution_count": null,
      "outputs": []
    },
    {
      "cell_type": "markdown",
      "metadata": {
        "id": "_RI54t52HqU7"
      },
      "source": [
        "## Some Handy One Liners"
      ]
    },
    {
      "cell_type": "markdown",
      "metadata": {
        "id": "6TApe0wUHuLW"
      },
      "source": [
        "Swapping"
      ]
    },
    {
      "cell_type": "code",
      "metadata": {
        "id": "mLP1lnWWPA5p",
        "outputId": "5b93be09-8cdb-4f62-a008-8ae72ea70ef5",
        "colab": {
          "base_uri": "https://localhost:8080/"
        }
      },
      "source": [
        "a = 2\n",
        "b = 4\n",
        "a,b = b,a\n",
        "print(a,b)"
      ],
      "execution_count": null,
      "outputs": [
        {
          "output_type": "stream",
          "text": [
            "4 2\n"
          ],
          "name": "stdout"
        }
      ]
    },
    {
      "cell_type": "markdown",
      "metadata": {
        "id": "dArfGhWqIAMj"
      },
      "source": [
        "Palindrome"
      ]
    },
    {
      "cell_type": "code",
      "metadata": {
        "id": "BvXBH3CeH8rt",
        "outputId": "607a2cb4-0ac6-428f-8299-1bbca7811004",
        "colab": {
          "base_uri": "https://localhost:8080/"
        }
      },
      "source": [
        "str1 = 'abcba'\n",
        "print(str1 == str1[::-1])"
      ],
      "execution_count": null,
      "outputs": [
        {
          "output_type": "stream",
          "text": [
            "True\n"
          ],
          "name": "stdout"
        }
      ]
    },
    {
      "cell_type": "markdown",
      "metadata": {
        "id": "c-24R8SpIc7X"
      },
      "source": [
        "Flatenning 2 D array"
      ]
    },
    {
      "cell_type": "code",
      "metadata": {
        "id": "LFc6Q1B4IJLJ"
      },
      "source": [
        "lis1 =  [ [1,2], [2,3], [3,4], [4,5] ]"
      ],
      "execution_count": null,
      "outputs": []
    },
    {
      "cell_type": "code",
      "metadata": {
        "id": "PuYrwE1yIpIf",
        "outputId": "d4b88b0e-a28a-4e9d-8c25-3c6a2a01e8dc",
        "colab": {
          "base_uri": "https://localhost:8080/"
        }
      },
      "source": [
        "ls2 =  []\n",
        "\n",
        "for i in lis1:\n",
        "  for j in i:\n",
        "    ls2.append(j)\n",
        "print(ls2)"
      ],
      "execution_count": null,
      "outputs": [
        {
          "output_type": "stream",
          "text": [
            "[1, 2, 2, 3, 3, 4, 4, 5]\n"
          ],
          "name": "stdout"
        }
      ]
    },
    {
      "cell_type": "code",
      "metadata": {
        "id": "2JykpYTOIrbu",
        "outputId": "4f3a5365-d0d3-4f78-f602-822594da7f53",
        "colab": {
          "base_uri": "https://localhost:8080/"
        }
      },
      "source": [
        "lis2 = [i for j in lis1 for i in j]\n",
        "print(lis2)"
      ],
      "execution_count": null,
      "outputs": [
        {
          "output_type": "stream",
          "text": [
            "[1, 2, 2, 3, 3, 4, 4, 5]\n"
          ],
          "name": "stdout"
        }
      ]
    },
    {
      "cell_type": "code",
      "metadata": {
        "id": "Urcb9MhCIuUw",
        "outputId": "0eeb8d1f-9889-4e4e-a50e-895637e44624",
        "colab": {
          "base_uri": "https://localhost:8080/"
        }
      },
      "source": [
        "sum(lis1,[])"
      ],
      "execution_count": null,
      "outputs": [
        {
          "output_type": "execute_result",
          "data": {
            "text/plain": [
              "[1, 2, 2, 3, 3, 4, 4, 5]"
            ]
          },
          "metadata": {
            "tags": []
          },
          "execution_count": 12
        }
      ]
    },
    {
      "cell_type": "code",
      "metadata": {
        "id": "ULJlicbgIzZl",
        "outputId": "11b41268-ffe2-4790-ce6c-d46a8c397940",
        "colab": {
          "base_uri": "https://localhost:8080/"
        }
      },
      "source": [
        "lis3 = [[1], [2], [3], [4]]\n",
        "sum(lis3,[])"
      ],
      "execution_count": null,
      "outputs": [
        {
          "output_type": "execute_result",
          "data": {
            "text/plain": [
              "[1, 2, 3, 4]"
            ]
          },
          "metadata": {
            "tags": []
          },
          "execution_count": 13
        }
      ]
    },
    {
      "cell_type": "markdown",
      "metadata": {
        "id": "T_JWOOmtJO8S"
      },
      "source": [
        "Reduce Function"
      ]
    },
    {
      "cell_type": "code",
      "metadata": {
        "id": "n1XDMM7HJHvV",
        "outputId": "5dab2619-2e31-4932-adb6-19962765cf53",
        "colab": {
          "base_uri": "https://localhost:8080/"
        }
      },
      "source": [
        "from functools import reduce\n",
        "a = [1,2,3,4]\n",
        "\n",
        "def sum(i,j):\n",
        "  return i+j\n",
        "  \n",
        "print(reduce(sum,a))\n",
        "\n",
        "#What it does :\n",
        "#Step1: 1+2 = 3 (This 3 goes as the first element in the next operation)\n",
        "#Step2: 3+3 = 6 (This 6 goes as the first element in the next operation)\n",
        "#Step3: 6+4 = 10"
      ],
      "execution_count": null,
      "outputs": [
        {
          "output_type": "stream",
          "text": [
            "10\n"
          ],
          "name": "stdout"
        }
      ]
    },
    {
      "cell_type": "code",
      "metadata": {
        "id": "BzUt5a6_JRHZ",
        "outputId": "ca5c1045-a583-4543-ea35-0088a2874689",
        "colab": {
          "base_uri": "https://localhost:8080/"
        }
      },
      "source": [
        "reduce(lambda x, y: x+y, a)"
      ],
      "execution_count": null,
      "outputs": [
        {
          "output_type": "execute_result",
          "data": {
            "text/plain": [
              "10"
            ]
          },
          "metadata": {
            "tags": []
          },
          "execution_count": 15
        }
      ]
    },
    {
      "cell_type": "code",
      "metadata": {
        "id": "Qm4SyE80JUKK"
      },
      "source": [
        ""
      ],
      "execution_count": null,
      "outputs": []
    }
  ]
}